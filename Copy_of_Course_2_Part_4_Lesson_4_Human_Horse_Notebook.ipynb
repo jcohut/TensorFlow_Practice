{
  "nbformat": 4,
  "nbformat_minor": 0,
  "metadata": {
    "accelerator": "GPU",
    "colab": {
      "name": "Copy of Course 2 - Part 4 - Lesson 4 Human Horse - Notebook.ipynb",
      "provenance": [],
      "collapsed_sections": [],
      "toc_visible": true,
      "include_colab_link": true
    },
    "kernelspec": {
      "display_name": "Python 3",
      "name": "python3"
    }
  },
  "cells": [
    {
      "cell_type": "markdown",
      "metadata": {
        "id": "view-in-github",
        "colab_type": "text"
      },
      "source": [
        "<a href=\"https://colab.research.google.com/github/jcohut/TensorFlow_Practice/blob/main/Copy_of_Course_2_Part_4_Lesson_4_Human_Horse_Notebook.ipynb\" target=\"_parent\"><img src=\"https://colab.research.google.com/assets/colab-badge.svg\" alt=\"Open In Colab\"/></a>"
      ]
    },
    {
      "cell_type": "markdown",
      "metadata": {
        "id": "rX8mhOLljYeM"
      },
      "source": [
        "##### Copyright 2019 The TensorFlow Authors."
      ]
    },
    {
      "cell_type": "code",
      "metadata": {
        "cellView": "form",
        "id": "BZSlp3DAjdYf"
      },
      "source": [
        "#@title Licensed under the Apache License, Version 2.0 (the \"License\");\n",
        "# you may not use this file except in compliance with the License.\n",
        "# You may obtain a copy of the License at\n",
        "#\n",
        "# https://www.apache.org/licenses/LICENSE-2.0\n",
        "#\n",
        "# Unless required by applicable law or agreed to in writing, software\n",
        "# distributed under the License is distributed on an \"AS IS\" BASIS,\n",
        "# WITHOUT WARRANTIES OR CONDITIONS OF ANY KIND, either express or implied.\n",
        "# See the License for the specific language governing permissions and\n",
        "# limitations under the License."
      ],
      "execution_count": null,
      "outputs": []
    },
    {
      "cell_type": "code",
      "metadata": {
        "id": "RXZT2UsyIVe_",
        "outputId": "b1a4cc1a-738c-407b-eee4-e0499929a3df",
        "colab": {
          "base_uri": "https://localhost:8080/",
          "height": 391
        }
      },
      "source": [
        "!wget --no-check-certificate \\\n",
        "    https://storage.googleapis.com/laurencemoroney-blog.appspot.com/horse-or-human.zip \\\n",
        "    -O /tmp/horse-or-human.zip\n",
        "\n",
        "!wget --no-check-certificate \\\n",
        "    https://storage.googleapis.com/laurencemoroney-blog.appspot.com/validation-horse-or-human.zip \\\n",
        "    -O /tmp/validation-horse-or-human.zip\n",
        "  \n",
        "import os\n",
        "import zipfile\n",
        "\n",
        "local_zip = '/tmp/horse-or-human.zip'\n",
        "zip_ref = zipfile.ZipFile(local_zip, 'r')\n",
        "zip_ref.extractall('/tmp/horse-or-human')\n",
        "local_zip = '/tmp/validation-horse-or-human.zip'\n",
        "zip_ref = zipfile.ZipFile(local_zip, 'r')\n",
        "zip_ref.extractall('/tmp/validation-horse-or-human')\n",
        "zip_ref.close()\n",
        "# Directory with our training horse pictures\n",
        "train_horse_dir = os.path.join('/tmp/horse-or-human/horses')\n",
        "\n",
        "# Directory with our training human pictures\n",
        "train_human_dir = os.path.join('/tmp/horse-or-human/humans')\n",
        "\n",
        "# Directory with our training horse pictures\n",
        "validation_horse_dir = os.path.join('/tmp/validation-horse-or-human/horses')\n",
        "\n",
        "# Directory with our training human pictures\n",
        "validation_human_dir = os.path.join('/tmp/validation-horse-or-human/humans')"
      ],
      "execution_count": 1,
      "outputs": [
        {
          "output_type": "stream",
          "text": [
            "--2020-10-10 17:17:26--  https://storage.googleapis.com/laurencemoroney-blog.appspot.com/horse-or-human.zip\n",
            "Resolving storage.googleapis.com (storage.googleapis.com)... 108.177.127.128, 74.125.143.128, 108.177.119.128, ...\n",
            "Connecting to storage.googleapis.com (storage.googleapis.com)|108.177.127.128|:443... connected.\n",
            "HTTP request sent, awaiting response... 200 OK\n",
            "Length: 149574867 (143M) [application/zip]\n",
            "Saving to: ‘/tmp/horse-or-human.zip’\n",
            "\n",
            "/tmp/horse-or-human 100%[===================>] 142.65M   106MB/s    in 1.3s    \n",
            "\n",
            "2020-10-10 17:17:28 (106 MB/s) - ‘/tmp/horse-or-human.zip’ saved [149574867/149574867]\n",
            "\n",
            "--2020-10-10 17:17:28--  https://storage.googleapis.com/laurencemoroney-blog.appspot.com/validation-horse-or-human.zip\n",
            "Resolving storage.googleapis.com (storage.googleapis.com)... 108.177.126.128, 108.177.127.128, 172.217.218.128, ...\n",
            "Connecting to storage.googleapis.com (storage.googleapis.com)|108.177.126.128|:443... connected.\n",
            "HTTP request sent, awaiting response... 200 OK\n",
            "Length: 11480187 (11M) [application/zip]\n",
            "Saving to: ‘/tmp/validation-horse-or-human.zip’\n",
            "\n",
            "/tmp/validation-hor 100%[===================>]  10.95M  31.7MB/s    in 0.3s    \n",
            "\n",
            "2020-10-10 17:17:28 (31.7 MB/s) - ‘/tmp/validation-horse-or-human.zip’ saved [11480187/11480187]\n",
            "\n"
          ],
          "name": "stdout"
        }
      ]
    },
    {
      "cell_type": "markdown",
      "metadata": {
        "id": "5oqBkNBJmtUv"
      },
      "source": [
        "## Building a Small Model from Scratch\n",
        "\n",
        "But before we continue, let's start defining the model:\n",
        "\n",
        "Step 1 will be to import tensorflow."
      ]
    },
    {
      "cell_type": "code",
      "metadata": {
        "id": "qvfZg3LQbD-5"
      },
      "source": [
        "import tensorflow as tf"
      ],
      "execution_count": 2,
      "outputs": []
    },
    {
      "cell_type": "markdown",
      "metadata": {
        "id": "BnhYCP4tdqjC"
      },
      "source": [
        "We then add convolutional layers as in the previous example, and flatten the final result to feed into the densely connected layers."
      ]
    },
    {
      "cell_type": "markdown",
      "metadata": {
        "id": "gokG5HKpdtzm"
      },
      "source": [
        "Finally we add the densely connected layers. \n",
        "\n",
        "Note that because we are facing a two-class classification problem, i.e. a *binary classification problem*, we will end our network with a [*sigmoid* activation](https://wikipedia.org/wiki/Sigmoid_function), so that the output of our network will be a single scalar between 0 and 1, encoding the probability that the current image is class 1 (as opposed to class 0)."
      ]
    },
    {
      "cell_type": "code",
      "metadata": {
        "id": "PixZ2s5QbYQ3"
      },
      "source": [
        "model = tf.keras.models.Sequential([\n",
        "    # Note the input shape is the desired size of the image 300x300 with 3 bytes color\n",
        "    # This is the first convolution\n",
        "    tf.keras.layers.Conv2D(16, (3,3), activation='relu', input_shape=(300, 300, 3)),\n",
        "    tf.keras.layers.MaxPooling2D(2, 2),\n",
        "    # The second convolution\n",
        "    tf.keras.layers.Conv2D(32, (3,3), activation='relu'),\n",
        "    tf.keras.layers.MaxPooling2D(2,2),\n",
        "    # The third convolution\n",
        "    tf.keras.layers.Conv2D(64, (3,3), activation='relu'),\n",
        "    tf.keras.layers.MaxPooling2D(2,2),\n",
        "    # The fourth convolution\n",
        "    tf.keras.layers.Conv2D(64, (3,3), activation='relu'),\n",
        "    tf.keras.layers.MaxPooling2D(2,2),\n",
        "    # The fifth convolution\n",
        "    tf.keras.layers.Conv2D(64, (3,3), activation='relu'),\n",
        "    tf.keras.layers.MaxPooling2D(2,2),\n",
        "    # Flatten the results to feed into a DNN\n",
        "    tf.keras.layers.Flatten(),\n",
        "    # 512 neuron hidden layer\n",
        "    tf.keras.layers.Dense(512, activation='relu'),\n",
        "    # Only 1 output neuron. It will contain a value from 0-1 where 0 for 1 class ('horses') and 1 for the other ('humans')\n",
        "    tf.keras.layers.Dense(1, activation='sigmoid')\n",
        "])"
      ],
      "execution_count": 3,
      "outputs": []
    },
    {
      "cell_type": "code",
      "metadata": {
        "id": "8DHWhFP_uhq3"
      },
      "source": [
        "from tensorflow.keras.optimizers import RMSprop\n",
        "\n",
        "model.compile(loss='binary_crossentropy',\n",
        "              optimizer=RMSprop(lr=1e-4),\n",
        "              metrics=['accuracy'])"
      ],
      "execution_count": 4,
      "outputs": []
    },
    {
      "cell_type": "code",
      "metadata": {
        "id": "ClebU9NJg99G",
        "outputId": "4a4f2be3-0016-4a97-cd81-bd7449c41ce2",
        "colab": {
          "base_uri": "https://localhost:8080/",
          "height": 51
        }
      },
      "source": [
        "from tensorflow.keras.preprocessing.image import ImageDataGenerator\n",
        "\n",
        "# All images will be rescaled by 1./255\n",
        "train_datagen = ImageDataGenerator(\n",
        "      rescale=1./255,\n",
        "      rotation_range=40,\n",
        "      width_shift_range=0.2,\n",
        "      height_shift_range=0.2,\n",
        "      shear_range=0.2,\n",
        "      zoom_range=0.2,\n",
        "      horizontal_flip=True,\n",
        "      fill_mode='nearest')\n",
        "\n",
        "validation_datagen = ImageDataGenerator(rescale=1/255)\n",
        "\n",
        "# Flow training images in batches of 128 using train_datagen generator\n",
        "train_generator = train_datagen.flow_from_directory(\n",
        "        '/tmp/horse-or-human/',  # This is the source directory for training images\n",
        "        target_size=(300, 300),  # All images will be resized to 150x150\n",
        "        batch_size=128,\n",
        "        # Since we use binary_crossentropy loss, we need binary labels\n",
        "        class_mode='binary')\n",
        "\n",
        "# Flow training images in batches of 128 using train_datagen generator\n",
        "validation_generator = validation_datagen.flow_from_directory(\n",
        "        '/tmp/validation-horse-or-human/',  # This is the source directory for training images\n",
        "        target_size=(300, 300),  # All images will be resized to 150x150\n",
        "        batch_size=32,\n",
        "        # Since we use binary_crossentropy loss, we need binary labels\n",
        "        class_mode='binary')"
      ],
      "execution_count": 5,
      "outputs": [
        {
          "output_type": "stream",
          "text": [
            "Found 1027 images belonging to 2 classes.\n",
            "Found 256 images belonging to 2 classes.\n"
          ],
          "name": "stdout"
        }
      ]
    },
    {
      "cell_type": "code",
      "metadata": {
        "id": "Fb1_lgobv81m",
        "outputId": "d96111af-e71c-4ddd-f5ee-798f901dfe3f",
        "colab": {
          "base_uri": "https://localhost:8080/",
          "height": 1000
        }
      },
      "source": [
        "history = model.fit(\n",
        "      train_generator,\n",
        "      steps_per_epoch=8,  \n",
        "      epochs=100,\n",
        "      verbose=1,\n",
        "      validation_data = validation_generator,\n",
        "      validation_steps=8)"
      ],
      "execution_count": 6,
      "outputs": [
        {
          "output_type": "stream",
          "text": [
            "Epoch 1/100\n",
            "8/8 [==============================] - 20s 2s/step - loss: 0.6843 - accuracy: 0.5508 - val_loss: 0.6574 - val_accuracy: 0.5000\n",
            "Epoch 2/100\n",
            "8/8 [==============================] - 20s 3s/step - loss: 0.6440 - accuracy: 0.6685 - val_loss: 0.8589 - val_accuracy: 0.5000\n",
            "Epoch 3/100\n",
            "8/8 [==============================] - 20s 3s/step - loss: 0.6350 - accuracy: 0.6363 - val_loss: 0.6650 - val_accuracy: 0.5000\n",
            "Epoch 4/100\n",
            "8/8 [==============================] - 20s 2s/step - loss: 0.5808 - accuracy: 0.7353 - val_loss: 0.5409 - val_accuracy: 0.7148\n",
            "Epoch 5/100\n",
            "8/8 [==============================] - 22s 3s/step - loss: 0.5612 - accuracy: 0.7266 - val_loss: 0.5376 - val_accuracy: 0.6484\n",
            "Epoch 6/100\n",
            "8/8 [==============================] - 20s 2s/step - loss: 0.5663 - accuracy: 0.7152 - val_loss: 0.7904 - val_accuracy: 0.5000\n",
            "Epoch 7/100\n",
            "8/8 [==============================] - 20s 2s/step - loss: 0.5414 - accuracy: 0.7152 - val_loss: 0.7307 - val_accuracy: 0.5273\n",
            "Epoch 8/100\n",
            "8/8 [==============================] - 23s 3s/step - loss: 0.5391 - accuracy: 0.7308 - val_loss: 0.7275 - val_accuracy: 0.5430\n",
            "Epoch 9/100\n",
            "8/8 [==============================] - 20s 3s/step - loss: 0.5117 - accuracy: 0.7419 - val_loss: 0.9813 - val_accuracy: 0.5000\n",
            "Epoch 10/100\n",
            "8/8 [==============================] - 19s 2s/step - loss: 0.5335 - accuracy: 0.7608 - val_loss: 0.7459 - val_accuracy: 0.5625\n",
            "Epoch 11/100\n",
            "8/8 [==============================] - 19s 2s/step - loss: 0.4858 - accuracy: 0.7631 - val_loss: 0.7315 - val_accuracy: 0.6016\n",
            "Epoch 12/100\n",
            "8/8 [==============================] - 19s 2s/step - loss: 0.4798 - accuracy: 0.7786 - val_loss: 0.5706 - val_accuracy: 0.6719\n",
            "Epoch 13/100\n",
            "8/8 [==============================] - 22s 3s/step - loss: 0.4709 - accuracy: 0.7705 - val_loss: 1.0329 - val_accuracy: 0.5508\n",
            "Epoch 14/100\n",
            "8/8 [==============================] - 20s 2s/step - loss: 0.5382 - accuracy: 0.7531 - val_loss: 1.0096 - val_accuracy: 0.5586\n",
            "Epoch 15/100\n",
            "8/8 [==============================] - 20s 2s/step - loss: 0.4544 - accuracy: 0.7887 - val_loss: 1.1390 - val_accuracy: 0.5547\n",
            "Epoch 16/100\n",
            "8/8 [==============================] - 20s 2s/step - loss: 0.4111 - accuracy: 0.8109 - val_loss: 1.0772 - val_accuracy: 0.5703\n",
            "Epoch 17/100\n",
            "8/8 [==============================] - 20s 2s/step - loss: 0.4611 - accuracy: 0.8020 - val_loss: 1.0934 - val_accuracy: 0.5703\n",
            "Epoch 18/100\n",
            "8/8 [==============================] - 20s 2s/step - loss: 0.4129 - accuracy: 0.8176 - val_loss: 1.0557 - val_accuracy: 0.6016\n",
            "Epoch 19/100\n",
            "8/8 [==============================] - 19s 2s/step - loss: 0.4520 - accuracy: 0.7887 - val_loss: 1.0369 - val_accuracy: 0.6055\n",
            "Epoch 20/100\n",
            "8/8 [==============================] - 19s 2s/step - loss: 0.3837 - accuracy: 0.8387 - val_loss: 0.7844 - val_accuracy: 0.6953\n",
            "Epoch 21/100\n",
            "8/8 [==============================] - 22s 3s/step - loss: 0.4101 - accuracy: 0.8165 - val_loss: 1.2828 - val_accuracy: 0.5781\n",
            "Epoch 22/100\n",
            "8/8 [==============================] - 19s 2s/step - loss: 0.3843 - accuracy: 0.8354 - val_loss: 1.1073 - val_accuracy: 0.6094\n",
            "Epoch 23/100\n",
            "8/8 [==============================] - 19s 2s/step - loss: 0.3427 - accuracy: 0.8643 - val_loss: 1.6629 - val_accuracy: 0.5430\n",
            "Epoch 24/100\n",
            "8/8 [==============================] - 19s 2s/step - loss: 0.3432 - accuracy: 0.8598 - val_loss: 2.1327 - val_accuracy: 0.5195\n",
            "Epoch 25/100\n",
            "8/8 [==============================] - 19s 2s/step - loss: 0.3610 - accuracy: 0.8343 - val_loss: 1.0454 - val_accuracy: 0.6602\n",
            "Epoch 26/100\n",
            "8/8 [==============================] - 19s 2s/step - loss: 0.3579 - accuracy: 0.8376 - val_loss: 1.1508 - val_accuracy: 0.6250\n",
            "Epoch 27/100\n",
            "8/8 [==============================] - 19s 2s/step - loss: 0.3432 - accuracy: 0.8465 - val_loss: 0.8183 - val_accuracy: 0.6875\n",
            "Epoch 28/100\n",
            "8/8 [==============================] - 19s 2s/step - loss: 0.3316 - accuracy: 0.8543 - val_loss: 1.4448 - val_accuracy: 0.5742\n",
            "Epoch 29/100\n",
            "8/8 [==============================] - 19s 2s/step - loss: 0.3811 - accuracy: 0.8187 - val_loss: 0.8864 - val_accuracy: 0.6719\n",
            "Epoch 30/100\n",
            "8/8 [==============================] - 21s 3s/step - loss: 0.3540 - accuracy: 0.8496 - val_loss: 1.7500 - val_accuracy: 0.5273\n",
            "Epoch 31/100\n",
            "8/8 [==============================] - 19s 2s/step - loss: 0.3373 - accuracy: 0.8732 - val_loss: 1.4488 - val_accuracy: 0.5781\n",
            "Epoch 32/100\n",
            "8/8 [==============================] - 19s 2s/step - loss: 0.3212 - accuracy: 0.8676 - val_loss: 1.9148 - val_accuracy: 0.5195\n",
            "Epoch 33/100\n",
            "8/8 [==============================] - 19s 2s/step - loss: 0.3210 - accuracy: 0.8610 - val_loss: 2.0082 - val_accuracy: 0.5273\n",
            "Epoch 34/100\n",
            "8/8 [==============================] - 19s 2s/step - loss: 0.3093 - accuracy: 0.8621 - val_loss: 1.4755 - val_accuracy: 0.5938\n",
            "Epoch 35/100\n",
            "8/8 [==============================] - 19s 2s/step - loss: 0.3732 - accuracy: 0.8465 - val_loss: 1.2364 - val_accuracy: 0.6094\n",
            "Epoch 36/100\n",
            "8/8 [==============================] - 19s 2s/step - loss: 0.2756 - accuracy: 0.8954 - val_loss: 1.1160 - val_accuracy: 0.6914\n",
            "Epoch 37/100\n",
            "8/8 [==============================] - 19s 2s/step - loss: 0.2971 - accuracy: 0.8632 - val_loss: 1.6741 - val_accuracy: 0.5625\n",
            "Epoch 38/100\n",
            "8/8 [==============================] - 22s 3s/step - loss: 0.2640 - accuracy: 0.9010 - val_loss: 1.4463 - val_accuracy: 0.6211\n",
            "Epoch 39/100\n",
            "8/8 [==============================] - 19s 2s/step - loss: 0.2487 - accuracy: 0.9055 - val_loss: 1.9814 - val_accuracy: 0.5586\n",
            "Epoch 40/100\n",
            "8/8 [==============================] - 19s 2s/step - loss: 0.3506 - accuracy: 0.8509 - val_loss: 0.9391 - val_accuracy: 0.6680\n",
            "Epoch 41/100\n",
            "8/8 [==============================] - 19s 2s/step - loss: 0.2789 - accuracy: 0.8788 - val_loss: 1.4683 - val_accuracy: 0.6094\n",
            "Epoch 42/100\n",
            "8/8 [==============================] - 19s 2s/step - loss: 0.2241 - accuracy: 0.9177 - val_loss: 1.5183 - val_accuracy: 0.6250\n",
            "Epoch 43/100\n",
            "8/8 [==============================] - 19s 2s/step - loss: 0.2896 - accuracy: 0.8754 - val_loss: 0.9970 - val_accuracy: 0.6445\n",
            "Epoch 44/100\n",
            "8/8 [==============================] - 19s 2s/step - loss: 0.2346 - accuracy: 0.8999 - val_loss: 1.3916 - val_accuracy: 0.6406\n",
            "Epoch 45/100\n",
            "8/8 [==============================] - 19s 2s/step - loss: 0.3188 - accuracy: 0.8743 - val_loss: 1.4546 - val_accuracy: 0.6172\n",
            "Epoch 46/100\n",
            "8/8 [==============================] - 19s 2s/step - loss: 0.2215 - accuracy: 0.8999 - val_loss: 1.4854 - val_accuracy: 0.6406\n",
            "Epoch 47/100\n",
            "8/8 [==============================] - 19s 2s/step - loss: 0.3533 - accuracy: 0.8799 - val_loss: 1.4637 - val_accuracy: 0.6250\n",
            "Epoch 48/100\n",
            "8/8 [==============================] - 19s 2s/step - loss: 0.2123 - accuracy: 0.9099 - val_loss: 1.3738 - val_accuracy: 0.6406\n",
            "Epoch 49/100\n",
            "8/8 [==============================] - 19s 2s/step - loss: 0.2132 - accuracy: 0.9088 - val_loss: 4.1372 - val_accuracy: 0.5000\n",
            "Epoch 50/100\n",
            "8/8 [==============================] - 18s 2s/step - loss: 0.2482 - accuracy: 0.8932 - val_loss: 2.4890 - val_accuracy: 0.5391\n",
            "Epoch 51/100\n",
            "8/8 [==============================] - 21s 3s/step - loss: 0.2312 - accuracy: 0.9023 - val_loss: 1.1669 - val_accuracy: 0.6836\n",
            "Epoch 52/100\n",
            "8/8 [==============================] - 19s 2s/step - loss: 0.2127 - accuracy: 0.9099 - val_loss: 1.9608 - val_accuracy: 0.5977\n",
            "Epoch 53/100\n",
            "8/8 [==============================] - 19s 2s/step - loss: 0.2753 - accuracy: 0.8832 - val_loss: 1.4302 - val_accuracy: 0.6055\n",
            "Epoch 54/100\n",
            "8/8 [==============================] - 19s 2s/step - loss: 0.2377 - accuracy: 0.9043 - val_loss: 1.2213 - val_accuracy: 0.6367\n",
            "Epoch 55/100\n",
            "8/8 [==============================] - 22s 3s/step - loss: 0.2196 - accuracy: 0.9155 - val_loss: 1.9728 - val_accuracy: 0.5664\n",
            "Epoch 56/100\n",
            "8/8 [==============================] - 19s 2s/step - loss: 0.2205 - accuracy: 0.9066 - val_loss: 1.8952 - val_accuracy: 0.5781\n",
            "Epoch 57/100\n",
            "8/8 [==============================] - 19s 2s/step - loss: 0.2467 - accuracy: 0.8888 - val_loss: 1.5385 - val_accuracy: 0.6133\n",
            "Epoch 58/100\n",
            "8/8 [==============================] - 19s 2s/step - loss: 0.1785 - accuracy: 0.9266 - val_loss: 2.0780 - val_accuracy: 0.5742\n",
            "Epoch 59/100\n",
            "8/8 [==============================] - 19s 2s/step - loss: 0.1714 - accuracy: 0.9455 - val_loss: 1.3291 - val_accuracy: 0.6719\n",
            "Epoch 60/100\n",
            "8/8 [==============================] - 19s 2s/step - loss: 0.2195 - accuracy: 0.9032 - val_loss: 1.8963 - val_accuracy: 0.5820\n",
            "Epoch 61/100\n",
            "8/8 [==============================] - 19s 2s/step - loss: 0.2489 - accuracy: 0.8977 - val_loss: 1.3327 - val_accuracy: 0.6406\n",
            "Epoch 62/100\n",
            "8/8 [==============================] - 19s 2s/step - loss: 0.1619 - accuracy: 0.9388 - val_loss: 5.1316 - val_accuracy: 0.5000\n",
            "Epoch 63/100\n",
            "8/8 [==============================] - 21s 3s/step - loss: 0.3313 - accuracy: 0.8877 - val_loss: 1.8157 - val_accuracy: 0.5977\n",
            "Epoch 64/100\n",
            "8/8 [==============================] - 19s 2s/step - loss: 0.1729 - accuracy: 0.9344 - val_loss: 1.7453 - val_accuracy: 0.6289\n",
            "Epoch 65/100\n",
            "8/8 [==============================] - 19s 2s/step - loss: 0.1493 - accuracy: 0.9522 - val_loss: 2.9862 - val_accuracy: 0.5078\n",
            "Epoch 66/100\n",
            "8/8 [==============================] - 19s 2s/step - loss: 0.1837 - accuracy: 0.9266 - val_loss: 2.8021 - val_accuracy: 0.5234\n",
            "Epoch 67/100\n",
            "8/8 [==============================] - 19s 2s/step - loss: 0.2158 - accuracy: 0.9088 - val_loss: 2.3250 - val_accuracy: 0.5391\n",
            "Epoch 68/100\n",
            "8/8 [==============================] - 19s 2s/step - loss: 0.1745 - accuracy: 0.9344 - val_loss: 2.1867 - val_accuracy: 0.5703\n",
            "Epoch 69/100\n",
            "8/8 [==============================] - 21s 3s/step - loss: 0.2711 - accuracy: 0.8899 - val_loss: 1.6648 - val_accuracy: 0.6289\n",
            "Epoch 70/100\n",
            "8/8 [==============================] - 19s 2s/step - loss: 0.2923 - accuracy: 0.8954 - val_loss: 1.9202 - val_accuracy: 0.5898\n",
            "Epoch 71/100\n",
            "8/8 [==============================] - 21s 3s/step - loss: 0.1346 - accuracy: 0.9570 - val_loss: 2.1929 - val_accuracy: 0.5820\n",
            "Epoch 72/100\n",
            "8/8 [==============================] - 18s 2s/step - loss: 0.1420 - accuracy: 0.9566 - val_loss: 2.3410 - val_accuracy: 0.5703\n",
            "Epoch 73/100\n",
            "8/8 [==============================] - 21s 3s/step - loss: 0.1697 - accuracy: 0.9410 - val_loss: 1.6462 - val_accuracy: 0.6367\n",
            "Epoch 74/100\n",
            "8/8 [==============================] - 18s 2s/step - loss: 0.1719 - accuracy: 0.9344 - val_loss: 1.5215 - val_accuracy: 0.6367\n",
            "Epoch 75/100\n",
            "8/8 [==============================] - 18s 2s/step - loss: 0.1379 - accuracy: 0.9566 - val_loss: 0.8360 - val_accuracy: 0.7617\n",
            "Epoch 76/100\n",
            "8/8 [==============================] - 19s 2s/step - loss: 0.1679 - accuracy: 0.9377 - val_loss: 1.8740 - val_accuracy: 0.5508\n",
            "Epoch 77/100\n",
            "8/8 [==============================] - 19s 2s/step - loss: 0.1904 - accuracy: 0.9232 - val_loss: 1.1078 - val_accuracy: 0.7188\n",
            "Epoch 78/100\n",
            "8/8 [==============================] - 19s 2s/step - loss: 0.1429 - accuracy: 0.9533 - val_loss: 3.3896 - val_accuracy: 0.5195\n",
            "Epoch 79/100\n",
            "8/8 [==============================] - 19s 2s/step - loss: 0.1311 - accuracy: 0.9577 - val_loss: 2.9491 - val_accuracy: 0.5586\n",
            "Epoch 80/100\n",
            "8/8 [==============================] - 21s 3s/step - loss: 0.1423 - accuracy: 0.9366 - val_loss: 2.8089 - val_accuracy: 0.5781\n",
            "Epoch 81/100\n",
            "8/8 [==============================] - 19s 2s/step - loss: 0.1841 - accuracy: 0.9266 - val_loss: 2.3118 - val_accuracy: 0.5898\n",
            "Epoch 82/100\n",
            "8/8 [==============================] - 18s 2s/step - loss: 0.1481 - accuracy: 0.9499 - val_loss: 2.6706 - val_accuracy: 0.5547\n",
            "Epoch 83/100\n",
            "8/8 [==============================] - 21s 3s/step - loss: 0.1333 - accuracy: 0.9555 - val_loss: 2.4449 - val_accuracy: 0.5820\n",
            "Epoch 84/100\n",
            "8/8 [==============================] - 19s 2s/step - loss: 0.2241 - accuracy: 0.9099 - val_loss: 1.3670 - val_accuracy: 0.6602\n",
            "Epoch 85/100\n",
            "8/8 [==============================] - 18s 2s/step - loss: 0.1138 - accuracy: 0.9633 - val_loss: 2.7549 - val_accuracy: 0.5742\n",
            "Epoch 86/100\n",
            "8/8 [==============================] - 18s 2s/step - loss: 0.1290 - accuracy: 0.9544 - val_loss: 2.9557 - val_accuracy: 0.5703\n",
            "Epoch 87/100\n",
            "8/8 [==============================] - 21s 3s/step - loss: 0.2276 - accuracy: 0.9043 - val_loss: 1.9923 - val_accuracy: 0.6289\n",
            "Epoch 88/100\n",
            "8/8 [==============================] - 19s 2s/step - loss: 0.1159 - accuracy: 0.9566 - val_loss: 2.5403 - val_accuracy: 0.5977\n",
            "Epoch 89/100\n",
            "8/8 [==============================] - 18s 2s/step - loss: 0.1887 - accuracy: 0.9221 - val_loss: 1.5640 - val_accuracy: 0.6328\n",
            "Epoch 90/100\n",
            "8/8 [==============================] - 19s 2s/step - loss: 0.1083 - accuracy: 0.9655 - val_loss: 2.6648 - val_accuracy: 0.5703\n",
            "Epoch 91/100\n",
            "8/8 [==============================] - 19s 2s/step - loss: 0.1433 - accuracy: 0.9455 - val_loss: 2.4678 - val_accuracy: 0.5703\n",
            "Epoch 92/100\n",
            "8/8 [==============================] - 21s 3s/step - loss: 0.1434 - accuracy: 0.9388 - val_loss: 2.7670 - val_accuracy: 0.5703\n",
            "Epoch 93/100\n",
            "8/8 [==============================] - 19s 2s/step - loss: 0.1328 - accuracy: 0.9511 - val_loss: 2.1031 - val_accuracy: 0.6055\n",
            "Epoch 94/100\n",
            "8/8 [==============================] - 19s 2s/step - loss: 0.1161 - accuracy: 0.9633 - val_loss: 2.9554 - val_accuracy: 0.5703\n",
            "Epoch 95/100\n",
            "8/8 [==============================] - 19s 2s/step - loss: 0.1730 - accuracy: 0.9199 - val_loss: 2.4683 - val_accuracy: 0.5859\n",
            "Epoch 96/100\n",
            "8/8 [==============================] - 21s 3s/step - loss: 0.1211 - accuracy: 0.9555 - val_loss: 2.3373 - val_accuracy: 0.6055\n",
            "Epoch 97/100\n",
            "8/8 [==============================] - 19s 2s/step - loss: 0.1367 - accuracy: 0.9455 - val_loss: 2.1224 - val_accuracy: 0.6055\n",
            "Epoch 98/100\n",
            "8/8 [==============================] - 21s 3s/step - loss: 0.1373 - accuracy: 0.9521 - val_loss: 1.9534 - val_accuracy: 0.6250\n",
            "Epoch 99/100\n",
            "8/8 [==============================] - 21s 3s/step - loss: 0.1139 - accuracy: 0.9590 - val_loss: 2.2386 - val_accuracy: 0.6094\n",
            "Epoch 100/100\n",
            "8/8 [==============================] - 18s 2s/step - loss: 0.1498 - accuracy: 0.9410 - val_loss: 0.8958 - val_accuracy: 0.7383\n"
          ],
          "name": "stdout"
        }
      ]
    },
    {
      "cell_type": "code",
      "metadata": {
        "id": "7zNPRWOVJdOH",
        "outputId": "5469c73d-a43e-4053-b8b9-ad6e5dca2c52",
        "colab": {
          "base_uri": "https://localhost:8080/",
          "height": 545
        }
      },
      "source": [
        "import matplotlib.pyplot as plt\n",
        "acc = history.history['accuracy']\n",
        "val_acc = history.history['val_accuracy']\n",
        "loss = history.history['loss']\n",
        "val_loss = history.history['val_loss']\n",
        "\n",
        "epochs = range(len(acc))\n",
        "\n",
        "plt.plot(epochs, acc, 'r', label='Training accuracy')\n",
        "plt.plot(epochs, val_acc, 'b', label='Validation accuracy')\n",
        "plt.title('Training and validation accuracy')\n",
        "\n",
        "plt.figure()\n",
        "\n",
        "plt.plot(epochs, loss, 'r', label='Training Loss')\n",
        "plt.plot(epochs, val_loss, 'b', label='Validation Loss')\n",
        "plt.title('Training and validation loss')\n",
        "plt.legend()\n",
        "\n",
        "plt.show()"
      ],
      "execution_count": 7,
      "outputs": [
        {
          "output_type": "display_data",
          "data": {
            "image/png": "[encoded data removed]",
            "text/plain": [
              "<Figure size 432x288 with 1 Axes>"
            ]
          },
          "metadata": {
            "tags": [],
            "needs_background": "light"
          }
        },
        {
          "output_type": "display_data",
          "data": {
            "image/png": "[encoded data removed]",
            "text/plain": [
              "<Figure size 432x288 with 1 Axes>"
            ]
          },
          "metadata": {
            "tags": [],
            "needs_background": "light"
          }
        }
      ]
    }
  ]
}