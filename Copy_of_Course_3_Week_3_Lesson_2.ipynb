{
  "nbformat": 4,
  "nbformat_minor": 0,
  "metadata": {
    "accelerator": "GPU",
    "colab": {
      "name": "Copy of Course 3 - Week 3 - Lesson 2.ipynb",
      "provenance": [],
      "collapsed_sections": [],
      "toc_visible": true,
      "include_colab_link": true
    },
    "kernelspec": {
      "display_name": "Python 3",
      "language": "python",
      "name": "python3"
    },
    "language_info": {
      "codemirror_mode": {
        "name": "ipython",
        "version": 3
      },
      "file_extension": ".py",
      "mimetype": "text/x-python",
      "name": "python",
      "nbconvert_exporter": "python",
      "pygments_lexer": "ipython3",
      "version": "3.7.6"
    }
  },
  "cells": [
    {
      "cell_type": "markdown",
      "metadata": {
        "id": "view-in-github",
        "colab_type": "text"
      },
      "source": [
        "<a href=\"https://colab.research.google.com/github/jcohut/TensorFlow_Practice/blob/main/Copy_of_Course_3_Week_3_Lesson_2.ipynb\" target=\"_parent\"><img src=\"https://colab.research.google.com/assets/colab-badge.svg\" alt=\"Open In Colab\"/></a>"
      ]
    },
    {
      "cell_type": "code",
      "metadata": {
        "id": "zX4Kg8DUTKWO"
      },
      "source": [
        "#@title Licensed under the Apache License, Version 2.0 (the \"License\");\n",
        "# you may not use this file except in compliance with the License.\n",
        "# You may obtain a copy of the License at\n",
        "#\n",
        "# https://www.apache.org/licenses/LICENSE-2.0\n",
        "#\n",
        "# Unless required by applicable law or agreed to in writing, software\n",
        "# distributed under the License is distributed on an \"AS IS\" BASIS,\n",
        "# WITHOUT WARRANTIES OR CONDITIONS OF ANY KIND, either express or implied.\n",
        "# See the License for the specific language governing permissions and\n",
        "# limitations under the License."
      ],
      "execution_count": null,
      "outputs": []
    },
    {
      "cell_type": "markdown",
      "metadata": {
        "id": "JX6LyTKPZD0m"
      },
      "source": [
        "<a href=\"https://colab.research.google.com/github/lmoroney/dlaicourse/blob/master/TensorFlow%20In%20Practice/Course%203%20-%20NLP/Course%203%20-%20Week%203%20-%20Lesson%202.ipynb\" target=\"_parent\"><img src=\"https://colab.research.google.com/assets/colab-badge.svg\" alt=\"Open In Colab\"/></a>"
      ]
    },
    {
      "cell_type": "code",
      "metadata": {
        "id": "jGwXGIXvFhXW",
        "outputId": "61257dce-3249-4708-c6dd-cc8d0fb70b6e",
        "colab": {
          "base_uri": "https://localhost:8080/",
          "height": 1000
        }
      },
      "source": [
        "import numpy as np\n",
        "\n",
        "import json\n",
        "import tensorflow as tf\n",
        "\n",
        "from tensorflow.keras.preprocessing.text import Tokenizer\n",
        "from tensorflow.keras.preprocessing.sequence import pad_sequences\n",
        "\n",
        "!wget --no-check-certificate \\\n",
        "    https://storage.googleapis.com/laurencemoroney-blog.appspot.com/sarcasm.json \\\n",
        "    -O /tmp/sarcasm.json\n",
        "\n",
        "vocab_size = 1000\n",
        "embedding_dim = 16\n",
        "max_length = 120\n",
        "trunc_type='post'\n",
        "padding_type='post'\n",
        "oov_tok = \"<OOV>\"\n",
        "training_size = 20000\n",
        "\n",
        "\n",
        "with open(\"/tmp/sarcasm.json\", 'r') as f:\n",
        "    datastore = json.load(f)\n",
        "\n",
        "\n",
        "sentences = []\n",
        "labels = []\n",
        "urls = []\n",
        "for item in datastore:\n",
        "    sentences.append(item['headline'])\n",
        "    labels.append(item['is_sarcastic'])\n",
        "\n",
        "training_sentences = sentences[0:training_size]\n",
        "testing_sentences = sentences[training_size:]\n",
        "training_labels = labels[0:training_size]\n",
        "testing_labels = labels[training_size:]\n",
        "\n",
        "tokenizer = Tokenizer(num_words=vocab_size, oov_token=oov_tok)\n",
        "tokenizer.fit_on_texts(training_sentences)\n",
        "\n",
        "word_index = tokenizer.word_index\n",
        "\n",
        "training_sequences = tokenizer.texts_to_sequences(training_sentences)\n",
        "training_padded = pad_sequences(training_sequences, maxlen=max_length, padding=padding_type, truncating=trunc_type)\n",
        "\n",
        "testing_sequences = tokenizer.texts_to_sequences(testing_sentences)\n",
        "testing_padded = pad_sequences(testing_sequences, maxlen=max_length, padding=padding_type, truncating=trunc_type)\n",
        "\n",
        "model = tf.keras.Sequential([\n",
        "    tf.keras.layers.Embedding(vocab_size, embedding_dim, input_length=max_length),\n",
        "    tf.keras.layers.Bidirectional(tf.keras.layers.LSTM(32)),\n",
        "    tf.keras.layers.Dense(24, activation='relu'),\n",
        "    tf.keras.layers.Dense(1, activation='sigmoid')\n",
        "])\n",
        "model.compile(loss='binary_crossentropy',optimizer='adam',metrics=['accuracy'])\n",
        "model.summary()\n",
        "\n",
        "num_epochs = 50\n",
        "training_padded = np.array(training_padded)\n",
        "training_labels = np.array(training_labels)\n",
        "testing_padded = np.array(testing_padded)\n",
        "testing_labels = np.array(testing_labels)\n",
        "history = model.fit(training_padded, training_labels, epochs=num_epochs, validation_data=(testing_padded, testing_labels), verbose=1)\n"
      ],
      "execution_count": 1,
      "outputs": [
        {
          "output_type": "stream",
          "text": [
            "--2020-10-14 03:24:00--  https://storage.googleapis.com/laurencemoroney-blog.appspot.com/sarcasm.json\n",
            "Resolving storage.googleapis.com (storage.googleapis.com)... 74.125.20.128, 74.125.197.128, 172.253.117.128, ...\n",
            "Connecting to storage.googleapis.com (storage.googleapis.com)|74.125.20.128|:443... connected.\n",
            "HTTP request sent, awaiting response... 200 OK\n",
            "Length: 5643545 (5.4M) [application/json]\n",
            "Saving to: ‘/tmp/sarcasm.json’\n",
            "\n",
            "\r/tmp/sarcasm.json     0%[                    ]       0  --.-KB/s               \r/tmp/sarcasm.json   100%[===================>]   5.38M  --.-KB/s    in 0.02s   \n",
            "\n",
            "2020-10-14 03:24:00 (255 MB/s) - ‘/tmp/sarcasm.json’ saved [5643545/5643545]\n",
            "\n",
            "Model: \"sequential\"\n",
            "_________________________________________________________________\n",
            "Layer (type)                 Output Shape              Param #   \n",
            "=================================================================\n",
            "embedding (Embedding)        (None, 120, 16)           16000     \n",
            "_________________________________________________________________\n",
            "bidirectional (Bidirectional (None, 64)                12544     \n",
            "_________________________________________________________________\n",
            "dense (Dense)                (None, 24)                1560      \n",
            "_________________________________________________________________\n",
            "dense_1 (Dense)              (None, 1)                 25        \n",
            "=================================================================\n",
            "Total params: 30,129\n",
            "Trainable params: 30,129\n",
            "Non-trainable params: 0\n",
            "_________________________________________________________________\n",
            "Epoch 1/50\n",
            "625/625 [==============================] - 9s 14ms/step - loss: 0.4510 - accuracy: 0.7770 - val_loss: 0.3905 - val_accuracy: 0.8183\n",
            "Epoch 2/50\n",
            "625/625 [==============================] - 8s 13ms/step - loss: 0.3559 - accuracy: 0.8371 - val_loss: 0.3817 - val_accuracy: 0.8267\n",
            "Epoch 3/50\n",
            "625/625 [==============================] - 8s 13ms/step - loss: 0.3326 - accuracy: 0.8514 - val_loss: 0.3723 - val_accuracy: 0.8290\n",
            "Epoch 4/50\n",
            "625/625 [==============================] - 8s 13ms/step - loss: 0.3132 - accuracy: 0.8605 - val_loss: 0.3768 - val_accuracy: 0.8362\n",
            "Epoch 5/50\n",
            "625/625 [==============================] - 8s 13ms/step - loss: 0.3010 - accuracy: 0.8659 - val_loss: 0.3807 - val_accuracy: 0.8362\n",
            "Epoch 6/50\n",
            "625/625 [==============================] - 9s 14ms/step - loss: 0.2907 - accuracy: 0.8734 - val_loss: 0.3741 - val_accuracy: 0.8363\n",
            "Epoch 7/50\n",
            "625/625 [==============================] - 9s 14ms/step - loss: 0.2839 - accuracy: 0.8753 - val_loss: 0.3819 - val_accuracy: 0.8310\n",
            "Epoch 8/50\n",
            "625/625 [==============================] - 8s 13ms/step - loss: 0.2757 - accuracy: 0.8787 - val_loss: 0.4034 - val_accuracy: 0.8319\n",
            "Epoch 9/50\n",
            "625/625 [==============================] - 8s 13ms/step - loss: 0.2712 - accuracy: 0.8804 - val_loss: 0.4038 - val_accuracy: 0.8286\n",
            "Epoch 10/50\n",
            "625/625 [==============================] - 8s 13ms/step - loss: 0.2646 - accuracy: 0.8874 - val_loss: 0.4027 - val_accuracy: 0.8259\n",
            "Epoch 11/50\n",
            "625/625 [==============================] - 8s 13ms/step - loss: 0.2588 - accuracy: 0.8893 - val_loss: 0.4020 - val_accuracy: 0.8267\n",
            "Epoch 12/50\n",
            "625/625 [==============================] - 8s 13ms/step - loss: 0.2542 - accuracy: 0.8902 - val_loss: 0.4270 - val_accuracy: 0.8217\n",
            "Epoch 13/50\n",
            "625/625 [==============================] - 8s 13ms/step - loss: 0.2463 - accuracy: 0.8939 - val_loss: 0.4279 - val_accuracy: 0.8216\n",
            "Epoch 14/50\n",
            "625/625 [==============================] - 8s 13ms/step - loss: 0.2396 - accuracy: 0.8969 - val_loss: 0.4348 - val_accuracy: 0.8216\n",
            "Epoch 15/50\n",
            "625/625 [==============================] - 8s 13ms/step - loss: 0.2329 - accuracy: 0.9012 - val_loss: 0.4558 - val_accuracy: 0.8190\n",
            "Epoch 16/50\n",
            "625/625 [==============================] - 8s 13ms/step - loss: 0.2247 - accuracy: 0.9035 - val_loss: 0.4489 - val_accuracy: 0.8211\n",
            "Epoch 17/50\n",
            "625/625 [==============================] - 8s 13ms/step - loss: 0.2166 - accuracy: 0.9093 - val_loss: 0.4677 - val_accuracy: 0.8164\n",
            "Epoch 18/50\n",
            "625/625 [==============================] - 9s 14ms/step - loss: 0.2101 - accuracy: 0.9106 - val_loss: 0.4971 - val_accuracy: 0.8205\n",
            "Epoch 19/50\n",
            "625/625 [==============================] - 8s 13ms/step - loss: 0.2017 - accuracy: 0.9148 - val_loss: 0.5057 - val_accuracy: 0.8123\n",
            "Epoch 20/50\n",
            "625/625 [==============================] - 8s 13ms/step - loss: 0.1948 - accuracy: 0.9177 - val_loss: 0.5145 - val_accuracy: 0.8174\n",
            "Epoch 21/50\n",
            "625/625 [==============================] - 8s 13ms/step - loss: 0.1861 - accuracy: 0.9226 - val_loss: 0.5655 - val_accuracy: 0.8158\n",
            "Epoch 22/50\n",
            "625/625 [==============================] - 8s 13ms/step - loss: 0.1790 - accuracy: 0.9258 - val_loss: 0.6222 - val_accuracy: 0.8143\n",
            "Epoch 23/50\n",
            "625/625 [==============================] - 9s 14ms/step - loss: 0.1714 - accuracy: 0.9299 - val_loss: 0.6096 - val_accuracy: 0.8098\n",
            "Epoch 24/50\n",
            "625/625 [==============================] - 8s 13ms/step - loss: 0.1643 - accuracy: 0.9327 - val_loss: 0.6335 - val_accuracy: 0.8110\n",
            "Epoch 25/50\n",
            "625/625 [==============================] - 9s 14ms/step - loss: 0.1556 - accuracy: 0.9380 - val_loss: 0.6222 - val_accuracy: 0.8110\n",
            "Epoch 26/50\n",
            "625/625 [==============================] - 9s 14ms/step - loss: 0.1473 - accuracy: 0.9410 - val_loss: 0.6827 - val_accuracy: 0.8080\n",
            "Epoch 27/50\n",
            "625/625 [==============================] - 8s 13ms/step - loss: 0.1429 - accuracy: 0.9434 - val_loss: 0.7260 - val_accuracy: 0.8003\n",
            "Epoch 28/50\n",
            "625/625 [==============================] - 9s 14ms/step - loss: 0.1344 - accuracy: 0.9470 - val_loss: 0.6910 - val_accuracy: 0.8050\n",
            "Epoch 29/50\n",
            "625/625 [==============================] - 8s 13ms/step - loss: 0.1275 - accuracy: 0.9512 - val_loss: 0.7405 - val_accuracy: 0.8088\n",
            "Epoch 30/50\n",
            "625/625 [==============================] - 8s 13ms/step - loss: 0.1231 - accuracy: 0.9523 - val_loss: 0.7792 - val_accuracy: 0.8021\n",
            "Epoch 31/50\n",
            "625/625 [==============================] - 9s 14ms/step - loss: 0.1137 - accuracy: 0.9552 - val_loss: 0.8559 - val_accuracy: 0.8024\n",
            "Epoch 32/50\n",
            "625/625 [==============================] - 8s 13ms/step - loss: 0.1138 - accuracy: 0.9549 - val_loss: 0.8295 - val_accuracy: 0.8064\n",
            "Epoch 33/50\n",
            "625/625 [==============================] - 8s 14ms/step - loss: 0.1047 - accuracy: 0.9591 - val_loss: 0.9155 - val_accuracy: 0.8010\n",
            "Epoch 34/50\n",
            "625/625 [==============================] - 9s 14ms/step - loss: 0.1022 - accuracy: 0.9599 - val_loss: 0.9560 - val_accuracy: 0.7959\n",
            "Epoch 35/50\n",
            "625/625 [==============================] - 9s 14ms/step - loss: 0.0946 - accuracy: 0.9632 - val_loss: 0.9643 - val_accuracy: 0.7951\n",
            "Epoch 36/50\n",
            "625/625 [==============================] - 9s 14ms/step - loss: 0.0917 - accuracy: 0.9647 - val_loss: 1.0948 - val_accuracy: 0.7986\n",
            "Epoch 37/50\n",
            "625/625 [==============================] - 9s 14ms/step - loss: 0.0899 - accuracy: 0.9643 - val_loss: 1.0679 - val_accuracy: 0.7982\n",
            "Epoch 38/50\n",
            "625/625 [==============================] - 9s 14ms/step - loss: 0.0840 - accuracy: 0.9680 - val_loss: 1.1005 - val_accuracy: 0.7998\n",
            "Epoch 39/50\n",
            "625/625 [==============================] - 9s 14ms/step - loss: 0.0841 - accuracy: 0.9683 - val_loss: 1.1130 - val_accuracy: 0.7964\n",
            "Epoch 40/50\n",
            "625/625 [==============================] - 9s 14ms/step - loss: 0.0831 - accuracy: 0.9686 - val_loss: 1.0916 - val_accuracy: 0.7982\n",
            "Epoch 41/50\n",
            "625/625 [==============================] - 8s 14ms/step - loss: 0.0709 - accuracy: 0.9732 - val_loss: 1.2572 - val_accuracy: 0.7970\n",
            "Epoch 42/50\n",
            "625/625 [==============================] - 9s 14ms/step - loss: 0.0722 - accuracy: 0.9720 - val_loss: 1.2965 - val_accuracy: 0.8024\n",
            "Epoch 43/50\n",
            "625/625 [==============================] - 8s 14ms/step - loss: 0.0701 - accuracy: 0.9729 - val_loss: 1.3184 - val_accuracy: 0.7933\n",
            "Epoch 44/50\n",
            "625/625 [==============================] - 9s 14ms/step - loss: 0.0663 - accuracy: 0.9733 - val_loss: 1.3590 - val_accuracy: 0.7973\n",
            "Epoch 45/50\n",
            "625/625 [==============================] - 9s 14ms/step - loss: 0.0632 - accuracy: 0.9747 - val_loss: 1.4288 - val_accuracy: 0.7967\n",
            "Epoch 46/50\n",
            "625/625 [==============================] - 8s 13ms/step - loss: 0.0634 - accuracy: 0.9746 - val_loss: 1.3854 - val_accuracy: 0.7952\n",
            "Epoch 47/50\n",
            "625/625 [==============================] - 8s 14ms/step - loss: 0.0612 - accuracy: 0.9750 - val_loss: 1.5498 - val_accuracy: 0.7866\n",
            "Epoch 48/50\n",
            "625/625 [==============================] - 9s 14ms/step - loss: 0.0590 - accuracy: 0.9768 - val_loss: 1.5006 - val_accuracy: 0.7989\n",
            "Epoch 49/50\n",
            "625/625 [==============================] - 8s 13ms/step - loss: 0.0545 - accuracy: 0.9778 - val_loss: 1.5375 - val_accuracy: 0.7934\n",
            "Epoch 50/50\n",
            "625/625 [==============================] - 9s 14ms/step - loss: 0.0541 - accuracy: 0.9796 - val_loss: 1.5431 - val_accuracy: 0.7958\n"
          ],
          "name": "stdout"
        }
      ]
    },
    {
      "cell_type": "code",
      "metadata": {
        "id": "g9DC6dmLF8DC",
        "outputId": "e60ee9f2-7fa0-4bfd-a2ed-480c958afcb5",
        "colab": {
          "base_uri": "https://localhost:8080/",
          "height": 542
        }
      },
      "source": [
        "import matplotlib.pyplot as plt\n",
        "\n",
        "\n",
        "def plot_graphs(history, string):\n",
        "  plt.plot(history.history[string])\n",
        "  plt.plot(history.history['val_'+string])\n",
        "  plt.xlabel(\"Epochs\")\n",
        "  plt.ylabel(string)\n",
        "  plt.legend([string, 'val_'+string])\n",
        "  plt.show()\n",
        "\n",
        "plot_graphs(history, 'accuracy')\n",
        "plot_graphs(history, 'loss')"
      ],
      "execution_count": 2,
      "outputs": [
        {
          "output_type": "display_data",
          "data": {
            "image/png": "[encoded data removed]",
            "text/plain": [
              "<Figure size 432x288 with 1 Axes>"
            ]
          },
          "metadata": {
            "tags": [],
            "needs_background": "light"
          }
        },
        {
          "output_type": "display_data",
          "data": {
            "image/png": "[encoded data removed]",
            "text/plain": [
              "<Figure size 432x288 with 1 Axes>"
            ]
          },
          "metadata": {
            "tags": [],
            "needs_background": "light"
          }
        }
      ]
    },
    {
      "cell_type": "code",
      "metadata": {
        "id": "7ZEZIUppGhdi"
      },
      "source": [
        "model.save(\"test.h5\")"
      ],
      "execution_count": 3,
      "outputs": []
    }
  ]
}