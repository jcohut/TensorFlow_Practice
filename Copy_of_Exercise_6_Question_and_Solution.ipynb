{
  "nbformat": 4,
  "nbformat_minor": 0,
  "metadata": {
    "colab": {
      "name": "Copy of Exercise_6_Question_and_Solution.ipynb",
      "provenance": [],
      "collapsed_sections": [],
      "include_colab_link": true
    },
    "kernelspec": {
      "name": "python3",
      "display_name": "Python 3"
    },
    "accelerator": "GPU"
  },
  "cells": [
    {
      "cell_type": "markdown",
      "metadata": {
        "id": "view-in-github",
        "colab_type": "text"
      },
      "source": [
        "<a href=\"https://colab.research.google.com/github/jcohut/TensorFlow_Practice/blob/main/Copy_of_Exercise_6_Question_and_Solution.ipynb\" target=\"_parent\"><img src=\"https://colab.research.google.com/assets/colab-badge.svg\" alt=\"Open In Colab\"/></a>"
      ]
    },
    {
      "cell_type": "code",
      "metadata": {
        "id": "dn-6c02VmqiN"
      },
      "source": [
        "# In this exercise you will train a CNN on the FULL Cats-v-dogs dataset\n",
        "# This will require you doing a lot of data preprocessing because\n",
        "# the dataset isn't split into training and validation for you\n",
        "# This code block has all the required inputs\n",
        "import os\n",
        "import zipfile\n",
        "import random\n",
        "import tensorflow as tf\n",
        "from tensorflow.keras.optimizers import RMSprop\n",
        "from tensorflow.keras.preprocessing.image import ImageDataGenerator\n",
        "from shutil import copyfile"
      ],
      "execution_count": 1,
      "outputs": []
    },
    {
      "cell_type": "code",
      "metadata": {
        "id": "3sd9dQWa23aj",
        "outputId": "2ccd96c8-27ac-4312-d06b-d52932d75dae",
        "colab": {
          "base_uri": "https://localhost:8080/",
          "height": 204
        }
      },
      "source": [
        "# This code block downloads the full Cats-v-Dogs dataset and stores it as \n",
        "# cats-and-dogs.zip. It then unzips it to /tmp\n",
        "# which will create a tmp/PetImages directory containing subdirectories\n",
        "# called 'Cat' and 'Dog' (that's how the original researchers structured it)\n",
        "# If the URL doesn't work, \n",
        "# .   visit https://www.microsoft.com/en-us/download/confirmation.aspx?id=54765\n",
        "# And right click on the 'Download Manually' link to get a new URL\n",
        "\n",
        "!wget --no-check-certificate \\\n",
        "    \"https://download.microsoft.com/download/3/E/1/3E1C3F21-ECDB-4869-8368-6DEBA77B919F/kagglecatsanddogs_3367a.zip\" \\\n",
        "    -O \"/tmp/cats-and-dogs.zip\"\n",
        "\n",
        "local_zip = '/tmp/cats-and-dogs.zip'\n",
        "zip_ref = zipfile.ZipFile(local_zip, 'r')\n",
        "zip_ref.extractall('/tmp')\n",
        "zip_ref.close()"
      ],
      "execution_count": 2,
      "outputs": [
        {
          "output_type": "stream",
          "text": [
            "--2020-10-10 17:59:52--  https://download.microsoft.com/download/3/E/1/3E1C3F21-ECDB-4869-8368-6DEBA77B919F/kagglecatsanddogs_3367a.zip\n",
            "Resolving download.microsoft.com (download.microsoft.com)... 173.222.228.51, 2600:1409:12:2af::e59, 2600:1409:12:285::e59\n",
            "Connecting to download.microsoft.com (download.microsoft.com)|173.222.228.51|:443... connected.\n",
            "HTTP request sent, awaiting response... 200 OK\n",
            "Length: 824894548 (787M) [application/octet-stream]\n",
            "Saving to: ‘/tmp/cats-and-dogs.zip’\n",
            "\n",
            "/tmp/cats-and-dogs. 100%[===================>] 786.68M   129MB/s    in 6.1s    \n",
            "\n",
            "2020-10-10 17:59:58 (128 MB/s) - ‘/tmp/cats-and-dogs.zip’ saved [824894548/824894548]\n",
            "\n"
          ],
          "name": "stdout"
        }
      ]
    },
    {
      "cell_type": "code",
      "metadata": {
        "id": "gi3yD62a6X3S",
        "outputId": "f7efca22-be1a-400a-8033-1d0b8b0cb524",
        "colab": {
          "base_uri": "https://localhost:8080/",
          "height": 51
        }
      },
      "source": [
        "print(len(os.listdir('/tmp/PetImages/Cat/')))\n",
        "print(len(os.listdir('/tmp/PetImages/Dog/')))\n",
        "\n",
        "# Expected Output:\n",
        "# 12501\n",
        "# 12501"
      ],
      "execution_count": 3,
      "outputs": [
        {
          "output_type": "stream",
          "text": [
            "12501\n",
            "12501\n"
          ],
          "name": "stdout"
        }
      ]
    },
    {
      "cell_type": "code",
      "metadata": {
        "id": "F-QkLjxpmyK2"
      },
      "source": [
        "# Use os.mkdir to create your directories\n",
        "# You will need a directory for cats-v-dogs, and subdirectories for training\n",
        "# and testing. These in turn will need subdirectories for 'cats' and 'dogs'\n",
        "try:\n",
        "    #YOUR CODE GOES HERE\n",
        "    os.mkdir('/tmp/cats-v-dogs/')\n",
        "    os.mkdir('/tmp/cats-v-dogs/training/')\n",
        "    os.mkdir('/tmp/cats-v-dogs/testing/')\n",
        "    os.mkdir('/tmp/cats-v-dogs/training/cats/')\n",
        "    os.mkdir('/tmp/cats-v-dogs/training/dogs/')\n",
        "    os.mkdir('/tmp/cats-v-dogs/testing/cats/')\n",
        "    os.mkdir('/tmp/cats-v-dogs/testing/dogs/')\n",
        "except OSError:\n",
        "    pass"
      ],
      "execution_count": 4,
      "outputs": []
    },
    {
      "cell_type": "code",
      "metadata": {
        "id": "zvSODo0f9LaU",
        "outputId": "f6ccb654-b479-41bb-be95-7e01f9ef2e77",
        "colab": {
          "base_uri": "https://localhost:8080/",
          "height": 51
        }
      },
      "source": [
        "# Write a python function called split_data which takes\n",
        "# a SOURCE directory containing the files\n",
        "# a TRAINING directory that a portion of the files will be copied to\n",
        "# a TESTING directory that a portion of the files will be copie to\n",
        "# a SPLIT SIZE to determine the portion\n",
        "# The files should also be randomized, so that the training set is a random\n",
        "# X% of the files, and the test set is the remaining files\n",
        "# SO, for example, if SOURCE is PetImages/Cat, and SPLIT SIZE is .9\n",
        "# Then 90% of the images in PetImages/Cat will be copied to the TRAINING dir\n",
        "# and 10% of the images will be copied to the TESTING dir\n",
        "# Also -- All images should be checked, and if they have a zero file length,\n",
        "# they will not be copied over\n",
        "#\n",
        "# os.listdir(DIRECTORY) gives you a listing of the contents of that directory\n",
        "# os.path.getsize(PATH) gives you the size of the file\n",
        "# copyfile(source, destination) copies a file from source to destination\n",
        "# random.sample(list, len(list)) shuffles a list\n",
        "def split_data(SOURCE, TRAINING, TESTING, SPLIT_SIZE):\n",
        "    # YOUR CODE STARTS HERE\n",
        "    files = []\n",
        "    for filename in os.listdir(SOURCE):\n",
        "        file = SOURCE + filename\n",
        "        \n",
        "        if os.path.getsize(file) > 0:\n",
        "            files.append(filename)\n",
        "        else:\n",
        "            print(filename + \" is zero length, so ignoring.\")\n",
        "    \n",
        "    training_length = int(len(files) * SPLIT_SIZE)\n",
        "    testing_length = int(len(files) - training_length)\n",
        "    shuffled_set = random.sample(files, len(files))\n",
        "    training_set = shuffled_set[0:training_length]\n",
        "    testing_set = shuffled_set[:testing_length]\n",
        "    \n",
        "    for filename in training_set:\n",
        "        this_file = SOURCE + filename\n",
        "        destination = TRAINING + filename\n",
        "        copyfile(this_file, destination)\n",
        "        \n",
        "    for filename in testing_set:\n",
        "        this_file = SOURCE + filename\n",
        "        destination = TESTING + filename\n",
        "        copyfile(this_file, destination)\n",
        "    # YOUR CODE ENDS HERE\n",
        "\n",
        "\n",
        "CAT_SOURCE_DIR = \"/tmp/PetImages/Cat/\"\n",
        "TRAINING_CATS_DIR = \"/tmp/cats-v-dogs/training/cats/\"\n",
        "TESTING_CATS_DIR = \"/tmp/cats-v-dogs/testing/cats/\"\n",
        "DOG_SOURCE_DIR = \"/tmp/PetImages/Dog/\"\n",
        "TRAINING_DOGS_DIR = \"/tmp/cats-v-dogs/training/dogs/\"\n",
        "TESTING_DOGS_DIR = \"/tmp/cats-v-dogs/testing/dogs/\"\n",
        "\n",
        "split_size = .9\n",
        "split_data(CAT_SOURCE_DIR, TRAINING_CATS_DIR, TESTING_CATS_DIR, split_size)\n",
        "split_data(DOG_SOURCE_DIR, TRAINING_DOGS_DIR, TESTING_DOGS_DIR, split_size)\n",
        "\n",
        "# Expected output\n",
        "# 666.jpg is zero length, so ignoring\n",
        "# 11702.jpg is zero length, so ignoring"
      ],
      "execution_count": 5,
      "outputs": [
        {
          "output_type": "stream",
          "text": [
            "666.jpg is zero length, so ignoring.\n",
            "11702.jpg is zero length, so ignoring.\n"
          ],
          "name": "stdout"
        }
      ]
    },
    {
      "cell_type": "code",
      "metadata": {
        "id": "luthalB76ufC",
        "outputId": "c2c0147f-f4b6-4382-abd4-d3474330e0a0",
        "colab": {
          "base_uri": "https://localhost:8080/",
          "height": 85
        }
      },
      "source": [
        "print(len(os.listdir('/tmp/cats-v-dogs/training/cats/')))\n",
        "print(len(os.listdir('/tmp/cats-v-dogs/training/dogs/')))\n",
        "print(len(os.listdir('/tmp/cats-v-dogs/testing/cats/')))\n",
        "print(len(os.listdir('/tmp/cats-v-dogs/testing/dogs/')))\n",
        "\n",
        "# Expected output:\n",
        "# 11250\n",
        "# 11250\n",
        "# 1250\n",
        "# 1250"
      ],
      "execution_count": 6,
      "outputs": [
        {
          "output_type": "stream",
          "text": [
            "11250\n",
            "11250\n",
            "1250\n",
            "1250\n"
          ],
          "name": "stdout"
        }
      ]
    },
    {
      "cell_type": "code",
      "metadata": {
        "id": "-BQrav4anTmj"
      },
      "source": [
        "# DEFINE A KERAS MODEL TO CLASSIFY CATS V DOGS\n",
        "# USE AT LEAST 3 CONVOLUTION LAYERS\n",
        "model = tf.keras.models.Sequential([\n",
        "    # YOUR CODE HERE\n",
        "    tf.keras.layers.Conv2D(16, (3, 3), activation = 'relu', input_shape = (150, 150, 3)),\n",
        "    tf.keras.layers.MaxPooling2D(2, 2),\n",
        "    tf.keras.layers.Conv2D(32, (3, 3), activation = 'relu'),\n",
        "    tf.keras.layers.MaxPooling2D(2, 2),\n",
        "    tf.keras.layers.Conv2D(64, (3, 3), activation = 'relu'),\n",
        "    tf.keras.layers.MaxPooling2D(2, 2),\n",
        "    tf.keras.layers.Flatten(),\n",
        "    tf.keras.layers.Dense(512, activation = 'relu'),\n",
        "    tf.keras.layers.Dense(1, activation = 'sigmoid')\n",
        "])\n",
        "\n",
        "model.compile(optimizer=RMSprop(lr=0.001), loss='binary_crossentropy', metrics=['acc'])"
      ],
      "execution_count": 7,
      "outputs": []
    },
    {
      "cell_type": "code",
      "metadata": {
        "id": "mlNjoJ5D61N6",
        "outputId": "66b5c1d3-d7c1-4786-dc95-512a11daca72",
        "colab": {
          "base_uri": "https://localhost:8080/",
          "height": 51
        }
      },
      "source": [
        "TRAINING_DIR = '/tmp/cats-v-dogs/training/' #YOUR CODE HERE\n",
        "train_datagen = ImageDataGenerator(rescale = 1.0/255,\n",
        "                                   rotation_range = 40,\n",
        "                                   width_shift_range = 0.2,\n",
        "                                   height_shift_range = 0.2,\n",
        "                                   shear_range = 0.2,\n",
        "                                   zoom_range = 0.2,\n",
        "                                   horizontal_flip = True,\n",
        "                                   fill_mode = 'nearest') #YOUR CODE HERE\n",
        "train_generator = train_datagen.flow_from_directory(TRAINING_DIR, batch_size = 100, class_mode = 'binary', target_size = (150, 150)) #YOUR CODE HERE\n",
        "\n",
        "VALIDATION_DIR = '/tmp/cats-v-dogs/testing/' #YOUR CODE HERE\n",
        "validation_datagen = ImageDataGenerator(rescale = 1.0/255,\n",
        "                                        rotation_range = 40,\n",
        "                                        width_shift_range = 0.2,\n",
        "                                        height_shift_range = 0.2,\n",
        "                                        shear_range = 0.2,\n",
        "                                        zoom_range = 0.2,\n",
        "                                        horizontal_flip = True,\n",
        "                                        fill_mode = 'nearest') #YOUR CODE HERE\n",
        "validation_generator = validation_datagen.flow_from_directory(VALIDATION_DIR, batch_size = 100, class_mode = 'binary', target_size = (150, 150)) #YOUR CODE HERE\n",
        "\n",
        "\n",
        "\n",
        "# Expected Output:\n",
        "# Found 22498 images belonging to 2 classes.\n",
        "# Found 2500 images belonging to 2 classes."
      ],
      "execution_count": 8,
      "outputs": [
        {
          "output_type": "stream",
          "text": [
            "Found 22499 images belonging to 2 classes.\n",
            "Found 2500 images belonging to 2 classes.\n"
          ],
          "name": "stdout"
        }
      ]
    },
    {
      "cell_type": "code",
      "metadata": {
        "id": "KyS4n53w7DxC",
        "outputId": "7d08669c-a89e-4abd-a789-a089c5c02b9b",
        "colab": {
          "base_uri": "https://localhost:8080/",
          "height": 1000
        }
      },
      "source": [
        "history = model.fit_generator(train_generator,\n",
        "                              epochs=100,\n",
        "                              verbose=1,\n",
        "                              validation_data=validation_generator)\n",
        "\n",
        "# The expectation here is that the model will train, and that accuracy will be > 95% on both training and validation\n",
        "# i.e. acc:A1 and val_acc:A2 will be visible, and both A1 and A2 will be > .9"
      ],
      "execution_count": 11,
      "outputs": [
        {
          "output_type": "stream",
          "text": [
            "Epoch 1/100\n",
            "  1/225 [..............................] - ETA: 2s - loss: 0.4123 - acc: 0.8300"
          ],
          "name": "stdout"
        },
        {
          "output_type": "stream",
          "text": [
            "/usr/local/lib/python3.6/dist-packages/PIL/TiffImagePlugin.py:770: UserWarning: Possibly corrupt EXIF data.  Expecting to read 32 bytes but only got 0. Skipping tag 270\n",
            "  \" Skipping tag %s\" % (size, len(data), tag)\n",
            "/usr/local/lib/python3.6/dist-packages/PIL/TiffImagePlugin.py:770: UserWarning: Possibly corrupt EXIF data.  Expecting to read 5 bytes but only got 0. Skipping tag 271\n",
            "  \" Skipping tag %s\" % (size, len(data), tag)\n",
            "/usr/local/lib/python3.6/dist-packages/PIL/TiffImagePlugin.py:770: UserWarning: Possibly corrupt EXIF data.  Expecting to read 8 bytes but only got 0. Skipping tag 272\n",
            "  \" Skipping tag %s\" % (size, len(data), tag)\n",
            "/usr/local/lib/python3.6/dist-packages/PIL/TiffImagePlugin.py:770: UserWarning: Possibly corrupt EXIF data.  Expecting to read 8 bytes but only got 0. Skipping tag 282\n",
            "  \" Skipping tag %s\" % (size, len(data), tag)\n",
            "/usr/local/lib/python3.6/dist-packages/PIL/TiffImagePlugin.py:770: UserWarning: Possibly corrupt EXIF data.  Expecting to read 8 bytes but only got 0. Skipping tag 283\n",
            "  \" Skipping tag %s\" % (size, len(data), tag)\n",
            "/usr/local/lib/python3.6/dist-packages/PIL/TiffImagePlugin.py:770: UserWarning: Possibly corrupt EXIF data.  Expecting to read 20 bytes but only got 0. Skipping tag 306\n",
            "  \" Skipping tag %s\" % (size, len(data), tag)\n",
            "/usr/local/lib/python3.6/dist-packages/PIL/TiffImagePlugin.py:770: UserWarning: Possibly corrupt EXIF data.  Expecting to read 48 bytes but only got 0. Skipping tag 532\n",
            "  \" Skipping tag %s\" % (size, len(data), tag)\n",
            "/usr/local/lib/python3.6/dist-packages/PIL/TiffImagePlugin.py:788: UserWarning: Corrupt EXIF data.  Expecting to read 2 bytes but only got 0. \n",
            "  warnings.warn(str(msg))\n"
          ],
          "name": "stderr"
        },
        {
          "output_type": "stream",
          "text": [
            "225/225 [==============================] - 167s 741ms/step - loss: 0.4348 - acc: 0.8020 - val_loss: 0.3856 - val_acc: 0.8220\n",
            "Epoch 2/100\n",
            "225/225 [==============================] - 170s 754ms/step - loss: 0.4206 - acc: 0.8055 - val_loss: 0.3924 - val_acc: 0.8220\n",
            "Epoch 3/100\n",
            "225/225 [==============================] - 170s 756ms/step - loss: 0.4184 - acc: 0.8091 - val_loss: 0.4345 - val_acc: 0.8024\n",
            "Epoch 4/100\n",
            "225/225 [==============================] - 170s 756ms/step - loss: 0.4145 - acc: 0.8117 - val_loss: 0.4046 - val_acc: 0.8064\n",
            "Epoch 5/100\n",
            "225/225 [==============================] - 172s 763ms/step - loss: 0.4076 - acc: 0.8172 - val_loss: 0.4688 - val_acc: 0.7948\n",
            "Epoch 6/100\n",
            "225/225 [==============================] - 173s 768ms/step - loss: 0.3989 - acc: 0.8209 - val_loss: 0.3846 - val_acc: 0.8316\n",
            "Epoch 7/100\n",
            "225/225 [==============================] - 174s 771ms/step - loss: 0.3978 - acc: 0.8208 - val_loss: 0.4064 - val_acc: 0.8100\n",
            "Epoch 8/100\n",
            "225/225 [==============================] - 171s 761ms/step - loss: 0.3913 - acc: 0.8242 - val_loss: 0.3961 - val_acc: 0.8180\n",
            "Epoch 9/100\n",
            "225/225 [==============================] - 177s 785ms/step - loss: 0.3902 - acc: 0.8239 - val_loss: 0.3867 - val_acc: 0.8340\n",
            "Epoch 10/100\n",
            "225/225 [==============================] - 175s 778ms/step - loss: 0.3828 - acc: 0.8303 - val_loss: 0.3976 - val_acc: 0.8256\n",
            "Epoch 11/100\n",
            "225/225 [==============================] - 177s 785ms/step - loss: 0.3771 - acc: 0.8340 - val_loss: 0.3725 - val_acc: 0.8340\n",
            "Epoch 12/100\n",
            "225/225 [==============================] - 174s 774ms/step - loss: 0.3794 - acc: 0.8328 - val_loss: 0.3851 - val_acc: 0.8440\n",
            "Epoch 13/100\n",
            "225/225 [==============================] - 175s 777ms/step - loss: 0.3684 - acc: 0.8379 - val_loss: 0.3677 - val_acc: 0.8348\n",
            "Epoch 14/100\n",
            "225/225 [==============================] - 175s 779ms/step - loss: 0.3764 - acc: 0.8322 - val_loss: 0.4505 - val_acc: 0.7832\n",
            "Epoch 15/100\n",
            "225/225 [==============================] - 177s 786ms/step - loss: 0.3678 - acc: 0.8379 - val_loss: 0.3919 - val_acc: 0.8380\n",
            "Epoch 16/100\n",
            "225/225 [==============================] - 174s 774ms/step - loss: 0.3620 - acc: 0.8435 - val_loss: 0.3233 - val_acc: 0.8636\n",
            "Epoch 17/100\n",
            "225/225 [==============================] - 175s 776ms/step - loss: 0.3606 - acc: 0.8417 - val_loss: 0.3240 - val_acc: 0.8576\n",
            "Epoch 18/100\n",
            "225/225 [==============================] - 177s 785ms/step - loss: 0.3643 - acc: 0.8433 - val_loss: 0.3394 - val_acc: 0.8556\n",
            "Epoch 19/100\n",
            "225/225 [==============================] - 177s 788ms/step - loss: 0.3498 - acc: 0.8486 - val_loss: 0.3214 - val_acc: 0.8648\n",
            "Epoch 20/100\n",
            "225/225 [==============================] - 174s 774ms/step - loss: 0.3533 - acc: 0.8465 - val_loss: 0.3325 - val_acc: 0.8620\n",
            "Epoch 21/100\n",
            "225/225 [==============================] - 178s 792ms/step - loss: 0.3511 - acc: 0.8482 - val_loss: 0.3894 - val_acc: 0.8212\n",
            "Epoch 22/100\n",
            "225/225 [==============================] - 178s 792ms/step - loss: 0.3549 - acc: 0.8457 - val_loss: 0.3074 - val_acc: 0.8724\n",
            "Epoch 23/100\n",
            "225/225 [==============================] - 172s 766ms/step - loss: 0.3430 - acc: 0.8510 - val_loss: 0.3228 - val_acc: 0.8548\n",
            "Epoch 24/100\n",
            "225/225 [==============================] - 174s 774ms/step - loss: 0.3469 - acc: 0.8474 - val_loss: 0.3039 - val_acc: 0.8720\n",
            "Epoch 25/100\n",
            "225/225 [==============================] - 177s 788ms/step - loss: 0.3416 - acc: 0.8519 - val_loss: 0.3082 - val_acc: 0.8648\n",
            "Epoch 26/100\n",
            "225/225 [==============================] - 175s 777ms/step - loss: 0.3394 - acc: 0.8510 - val_loss: 0.4081 - val_acc: 0.8032\n",
            "Epoch 27/100\n",
            "225/225 [==============================] - 175s 780ms/step - loss: 0.3407 - acc: 0.8517 - val_loss: 0.3116 - val_acc: 0.8596\n",
            "Epoch 28/100\n",
            "225/225 [==============================] - 175s 780ms/step - loss: 0.3363 - acc: 0.8555 - val_loss: 0.3228 - val_acc: 0.8540\n",
            "Epoch 29/100\n",
            "225/225 [==============================] - 175s 776ms/step - loss: 0.3403 - acc: 0.8555 - val_loss: 0.3116 - val_acc: 0.8696\n",
            "Epoch 30/100\n",
            "225/225 [==============================] - 175s 777ms/step - loss: 0.3405 - acc: 0.8524 - val_loss: 0.3132 - val_acc: 0.8712\n",
            "Epoch 31/100\n",
            "225/225 [==============================] - 175s 777ms/step - loss: 0.3312 - acc: 0.8591 - val_loss: 0.3822 - val_acc: 0.8460\n",
            "Epoch 32/100\n",
            "225/225 [==============================] - 176s 783ms/step - loss: 0.3351 - acc: 0.8547 - val_loss: 0.3469 - val_acc: 0.8324\n",
            "Epoch 33/100\n",
            "225/225 [==============================] - 170s 757ms/step - loss: 0.3310 - acc: 0.8565 - val_loss: 0.3076 - val_acc: 0.8728\n",
            "Epoch 34/100\n",
            "225/225 [==============================] - 169s 753ms/step - loss: 0.3296 - acc: 0.8579 - val_loss: 0.2972 - val_acc: 0.8688\n",
            "Epoch 35/100\n",
            "225/225 [==============================] - 174s 775ms/step - loss: 0.3289 - acc: 0.8583 - val_loss: 0.3812 - val_acc: 0.8272\n",
            "Epoch 36/100\n",
            "225/225 [==============================] - 173s 769ms/step - loss: 0.3310 - acc: 0.8585 - val_loss: 0.7582 - val_acc: 0.7188\n",
            "Epoch 37/100\n",
            "225/225 [==============================] - 173s 767ms/step - loss: 0.3309 - acc: 0.8568 - val_loss: 0.2994 - val_acc: 0.8820\n",
            "Epoch 38/100\n",
            "225/225 [==============================] - 172s 766ms/step - loss: 0.3287 - acc: 0.8593 - val_loss: 0.2840 - val_acc: 0.8712\n",
            "Epoch 39/100\n",
            "225/225 [==============================] - 172s 762ms/step - loss: 0.3307 - acc: 0.8573 - val_loss: 0.2883 - val_acc: 0.8728\n",
            "Epoch 40/100\n",
            "225/225 [==============================] - 173s 768ms/step - loss: 0.3238 - acc: 0.8615 - val_loss: 0.3648 - val_acc: 0.8352\n",
            "Epoch 41/100\n",
            "225/225 [==============================] - 168s 746ms/step - loss: 0.3286 - acc: 0.8631 - val_loss: 0.2937 - val_acc: 0.8732\n",
            "Epoch 42/100\n",
            "225/225 [==============================] - 166s 736ms/step - loss: 0.3215 - acc: 0.8627 - val_loss: 0.3138 - val_acc: 0.8720\n",
            "Epoch 43/100\n",
            "225/225 [==============================] - 165s 735ms/step - loss: 0.3276 - acc: 0.8597 - val_loss: 0.4509 - val_acc: 0.7864\n",
            "Epoch 44/100\n",
            "225/225 [==============================] - 165s 732ms/step - loss: 0.3221 - acc: 0.8623 - val_loss: 0.2877 - val_acc: 0.8840\n",
            "Epoch 45/100\n",
            "225/225 [==============================] - 165s 735ms/step - loss: 0.3280 - acc: 0.8629 - val_loss: 0.2856 - val_acc: 0.8840\n",
            "Epoch 46/100\n",
            "225/225 [==============================] - 165s 732ms/step - loss: 0.3243 - acc: 0.8587 - val_loss: 0.3083 - val_acc: 0.8708\n",
            "Epoch 47/100\n",
            "225/225 [==============================] - 170s 755ms/step - loss: 0.3253 - acc: 0.8636 - val_loss: 0.3329 - val_acc: 0.8588\n",
            "Epoch 48/100\n",
            "225/225 [==============================] - 165s 735ms/step - loss: 0.3220 - acc: 0.8647 - val_loss: 0.3143 - val_acc: 0.8680\n",
            "Epoch 49/100\n",
            "225/225 [==============================] - 165s 734ms/step - loss: 0.3259 - acc: 0.8611 - val_loss: 0.3254 - val_acc: 0.8672\n",
            "Epoch 50/100\n",
            "225/225 [==============================] - 165s 732ms/step - loss: 0.3227 - acc: 0.8631 - val_loss: 0.3072 - val_acc: 0.8688\n",
            "Epoch 51/100\n",
            "225/225 [==============================] - 165s 733ms/step - loss: 0.3283 - acc: 0.8607 - val_loss: 0.2912 - val_acc: 0.8832\n",
            "Epoch 52/100\n",
            "225/225 [==============================] - 164s 731ms/step - loss: 0.3262 - acc: 0.8609 - val_loss: 0.3435 - val_acc: 0.8552\n",
            "Epoch 53/100\n",
            "225/225 [==============================] - 165s 731ms/step - loss: 0.3186 - acc: 0.8629 - val_loss: 0.2949 - val_acc: 0.8672\n",
            "Epoch 54/100\n",
            "225/225 [==============================] - 166s 739ms/step - loss: 0.3204 - acc: 0.8600 - val_loss: 0.3426 - val_acc: 0.8420\n",
            "Epoch 55/100\n",
            "225/225 [==============================] - 165s 733ms/step - loss: 0.3173 - acc: 0.8677 - val_loss: 0.5459 - val_acc: 0.7864\n",
            "Epoch 56/100\n",
            "225/225 [==============================] - 166s 736ms/step - loss: 0.3227 - acc: 0.8619 - val_loss: 0.3389 - val_acc: 0.8568\n",
            "Epoch 57/100\n",
            "225/225 [==============================] - 165s 734ms/step - loss: 0.3167 - acc: 0.8622 - val_loss: 0.2904 - val_acc: 0.8712\n",
            "Epoch 58/100\n",
            "225/225 [==============================] - 165s 732ms/step - loss: 0.3154 - acc: 0.8659 - val_loss: 0.3174 - val_acc: 0.8664\n",
            "Epoch 59/100\n",
            "225/225 [==============================] - 164s 730ms/step - loss: 0.3223 - acc: 0.8655 - val_loss: 0.3614 - val_acc: 0.8444\n",
            "Epoch 60/100\n",
            "225/225 [==============================] - 165s 731ms/step - loss: 0.3113 - acc: 0.8671 - val_loss: 0.4133 - val_acc: 0.8512\n",
            "Epoch 61/100\n",
            "225/225 [==============================] - 164s 731ms/step - loss: 0.3152 - acc: 0.8668 - val_loss: 0.2763 - val_acc: 0.8872\n",
            "Epoch 62/100\n",
            "225/225 [==============================] - 164s 730ms/step - loss: 0.3130 - acc: 0.8683 - val_loss: 0.4503 - val_acc: 0.7640\n",
            "Epoch 63/100\n",
            "225/225 [==============================] - 164s 727ms/step - loss: 0.3146 - acc: 0.8688 - val_loss: 0.2654 - val_acc: 0.8860\n",
            "Epoch 64/100\n",
            "225/225 [==============================] - 165s 732ms/step - loss: 0.3233 - acc: 0.8642 - val_loss: 0.3018 - val_acc: 0.8760\n",
            "Epoch 65/100\n",
            "225/225 [==============================] - 165s 731ms/step - loss: 0.3164 - acc: 0.8654 - val_loss: 0.3139 - val_acc: 0.8600\n",
            "Epoch 66/100\n",
            "225/225 [==============================] - 165s 731ms/step - loss: 0.3195 - acc: 0.8679 - val_loss: 0.2755 - val_acc: 0.8812\n",
            "Epoch 67/100\n",
            "225/225 [==============================] - 163s 727ms/step - loss: 0.3185 - acc: 0.8655 - val_loss: 0.3081 - val_acc: 0.8708\n",
            "Epoch 68/100\n",
            "225/225 [==============================] - 163s 725ms/step - loss: 0.3232 - acc: 0.8647 - val_loss: 0.2825 - val_acc: 0.8888\n",
            "Epoch 69/100\n",
            "225/225 [==============================] - 163s 723ms/step - loss: 0.3202 - acc: 0.8658 - val_loss: 0.3383 - val_acc: 0.8560\n",
            "Epoch 70/100\n",
            "225/225 [==============================] - 163s 725ms/step - loss: 0.3161 - acc: 0.8651 - val_loss: 0.2906 - val_acc: 0.8784\n",
            "Epoch 71/100\n",
            "225/225 [==============================] - 163s 723ms/step - loss: 0.3218 - acc: 0.8623 - val_loss: 0.2518 - val_acc: 0.8964\n",
            "Epoch 72/100\n",
            "225/225 [==============================] - 163s 722ms/step - loss: 0.3174 - acc: 0.8687 - val_loss: 0.3510 - val_acc: 0.8420\n",
            "Epoch 73/100\n",
            "225/225 [==============================] - 163s 725ms/step - loss: 0.3163 - acc: 0.8671 - val_loss: 0.2737 - val_acc: 0.8808\n",
            "Epoch 74/100\n",
            "225/225 [==============================] - 163s 722ms/step - loss: 0.3257 - acc: 0.8634 - val_loss: 0.3315 - val_acc: 0.8524\n",
            "Epoch 75/100\n",
            "225/225 [==============================] - 163s 723ms/step - loss: 0.3200 - acc: 0.8675 - val_loss: 0.2700 - val_acc: 0.8888\n",
            "Epoch 76/100\n",
            "225/225 [==============================] - 162s 719ms/step - loss: 0.3185 - acc: 0.8654 - val_loss: 0.4213 - val_acc: 0.8224\n",
            "Epoch 77/100\n",
            "225/225 [==============================] - 162s 721ms/step - loss: 0.3198 - acc: 0.8641 - val_loss: 0.2776 - val_acc: 0.8776\n",
            "Epoch 78/100\n",
            "225/225 [==============================] - 162s 719ms/step - loss: 0.3251 - acc: 0.8631 - val_loss: 0.2904 - val_acc: 0.8760\n",
            "Epoch 79/100\n",
            "225/225 [==============================] - 162s 720ms/step - loss: 0.3197 - acc: 0.8651 - val_loss: 0.3201 - val_acc: 0.8752\n",
            "Epoch 80/100\n",
            "225/225 [==============================] - 162s 718ms/step - loss: 0.3156 - acc: 0.8658 - val_loss: 0.2848 - val_acc: 0.8812\n",
            "Epoch 81/100\n",
            "225/225 [==============================] - 162s 719ms/step - loss: 0.3290 - acc: 0.8640 - val_loss: 0.3184 - val_acc: 0.8660\n",
            "Epoch 82/100\n",
            "225/225 [==============================] - 162s 721ms/step - loss: 0.3212 - acc: 0.8646 - val_loss: 0.2797 - val_acc: 0.8824\n",
            "Epoch 83/100\n",
            "225/225 [==============================] - 163s 724ms/step - loss: 0.3199 - acc: 0.8640 - val_loss: 0.3784 - val_acc: 0.8380\n",
            "Epoch 84/100\n",
            "225/225 [==============================] - 163s 723ms/step - loss: 0.3280 - acc: 0.8632 - val_loss: 0.2557 - val_acc: 0.8944\n",
            "Epoch 85/100\n",
            "225/225 [==============================] - 165s 734ms/step - loss: 0.3211 - acc: 0.8657 - val_loss: 0.3567 - val_acc: 0.8400\n",
            "Epoch 86/100\n",
            "225/225 [==============================] - 164s 731ms/step - loss: 0.3361 - acc: 0.8588 - val_loss: 0.3094 - val_acc: 0.8560\n",
            "Epoch 87/100\n",
            "225/225 [==============================] - 165s 731ms/step - loss: 0.3174 - acc: 0.8654 - val_loss: 0.5121 - val_acc: 0.8084\n",
            "Epoch 88/100\n",
            "225/225 [==============================] - 164s 729ms/step - loss: 0.3244 - acc: 0.8638 - val_loss: 0.2740 - val_acc: 0.8820\n",
            "Epoch 89/100\n",
            "225/225 [==============================] - 164s 729ms/step - loss: 0.3295 - acc: 0.8587 - val_loss: 0.2787 - val_acc: 0.8808\n",
            "Epoch 90/100\n",
            "225/225 [==============================] - 164s 730ms/step - loss: 0.3223 - acc: 0.8672 - val_loss: 0.2917 - val_acc: 0.8784\n",
            "Epoch 91/100\n",
            "225/225 [==============================] - 163s 725ms/step - loss: 0.3329 - acc: 0.8575 - val_loss: 0.2820 - val_acc: 0.8868\n",
            "Epoch 92/100\n",
            "225/225 [==============================] - 163s 727ms/step - loss: 0.3241 - acc: 0.8629 - val_loss: 0.3337 - val_acc: 0.8560\n",
            "Epoch 93/100\n",
            "225/225 [==============================] - 164s 730ms/step - loss: 0.3277 - acc: 0.8592 - val_loss: 0.3069 - val_acc: 0.8732\n",
            "Epoch 94/100\n",
            "225/225 [==============================] - 165s 731ms/step - loss: 0.3315 - acc: 0.8601 - val_loss: 0.3042 - val_acc: 0.8740\n",
            "Epoch 95/100\n",
            "225/225 [==============================] - 165s 732ms/step - loss: 0.3327 - acc: 0.8583 - val_loss: 0.2786 - val_acc: 0.8832\n",
            "Epoch 96/100\n",
            "225/225 [==============================] - 165s 733ms/step - loss: 0.3295 - acc: 0.8604 - val_loss: 0.2898 - val_acc: 0.8684\n",
            "Epoch 97/100\n",
            "225/225 [==============================] - 165s 733ms/step - loss: 0.3239 - acc: 0.8586 - val_loss: 0.5510 - val_acc: 0.8084\n",
            "Epoch 98/100\n",
            "225/225 [==============================] - 165s 732ms/step - loss: 0.3386 - acc: 0.8605 - val_loss: 0.3770 - val_acc: 0.8736\n",
            "Epoch 99/100\n",
            "225/225 [==============================] - 164s 729ms/step - loss: 0.3314 - acc: 0.8587 - val_loss: 0.3899 - val_acc: 0.8316\n",
            "Epoch 100/100\n",
            "225/225 [==============================] - 164s 730ms/step - loss: 0.3359 - acc: 0.8576 - val_loss: 0.4215 - val_acc: 0.8344\n"
          ],
          "name": "stdout"
        }
      ]
    },
    {
      "cell_type": "code",
      "metadata": {
        "id": "MWZrJN4-65RC",
        "outputId": "6011d33e-e5f4-4da2-c01e-606dd67edbdf",
        "colab": {
          "base_uri": "https://localhost:8080/",
          "height": 231
        }
      },
      "source": [
        "# PLOT LOSS AND ACCURACY\n",
        "%matplotlib inline\n",
        "\n",
        "import matplotlib.image  as mpimg\n",
        "import matplotlib.pyplot as plt\n",
        "\n",
        "#-----------------------------------------------------------\n",
        "# Retrieve a list of list results on training and test data\n",
        "# sets for each training epoch\n",
        "#-----------------------------------------------------------\n",
        "acc=history.history['acc']\n",
        "val_acc=history.history['val_acc']\n",
        "loss=history.history['loss']\n",
        "val_loss=history.history['val_loss']\n",
        "\n",
        "epochs=range(len(acc)) # Get number of epochs\n",
        "\n",
        "#------------------------------------------------\n",
        "# Plot training and validation accuracy per epoch\n",
        "#------------------------------------------------\n",
        "plt.plot(epochs, acc, 'r', \"Training Accuracy\")\n",
        "plt.plot(epochs, val_acc, 'b', \"Validation Accuracy\")\n",
        "plt.title('Training and validation accuracy')\n",
        "plt.figure()\n",
        "\n",
        "#------------------------------------------------\n",
        "# Plot training and validation loss per epoch\n",
        "#------------------------------------------------\n",
        "plt.plot(epochs, loss, 'r', \"Training Loss\")\n",
        "plt.plot(epochs, val_loss, 'b', \"Validation Loss\")\n",
        "\n",
        "\n",
        "plt.title('Training and validation loss')\n",
        "\n",
        "# Desired output. Charts with training and validation metrics. No crash :)"
      ],
      "execution_count": 1,
      "outputs": [
        {
          "output_type": "error",
          "ename": "NameError",
          "evalue": "ignored",
          "traceback": [
            "\u001b[0;31m---------------------------------------------------------------------------\u001b[0m",
            "\u001b[0;31mNameError\u001b[0m                                 Traceback (most recent call last)",
            "\u001b[0;32m<ipython-input-1-6dccbeaa3425>\u001b[0m in \u001b[0;36m<module>\u001b[0;34m()\u001b[0m\n\u001b[1;32m      9\u001b[0m \u001b[0;31m# sets for each training epoch\u001b[0m\u001b[0;34m\u001b[0m\u001b[0;34m\u001b[0m\u001b[0;34m\u001b[0m\u001b[0m\n\u001b[1;32m     10\u001b[0m \u001b[0;31m#-----------------------------------------------------------\u001b[0m\u001b[0;34m\u001b[0m\u001b[0;34m\u001b[0m\u001b[0;34m\u001b[0m\u001b[0m\n\u001b[0;32m---> 11\u001b[0;31m \u001b[0macc\u001b[0m\u001b[0;34m=\u001b[0m\u001b[0mhistory\u001b[0m\u001b[0;34m.\u001b[0m\u001b[0mhistory\u001b[0m\u001b[0;34m[\u001b[0m\u001b[0;34m'acc'\u001b[0m\u001b[0;34m]\u001b[0m\u001b[0;34m\u001b[0m\u001b[0;34m\u001b[0m\u001b[0m\n\u001b[0m\u001b[1;32m     12\u001b[0m \u001b[0mval_acc\u001b[0m\u001b[0;34m=\u001b[0m\u001b[0mhistory\u001b[0m\u001b[0;34m.\u001b[0m\u001b[0mhistory\u001b[0m\u001b[0;34m[\u001b[0m\u001b[0;34m'val_acc'\u001b[0m\u001b[0;34m]\u001b[0m\u001b[0;34m\u001b[0m\u001b[0;34m\u001b[0m\u001b[0m\n\u001b[1;32m     13\u001b[0m \u001b[0mloss\u001b[0m\u001b[0;34m=\u001b[0m\u001b[0mhistory\u001b[0m\u001b[0;34m.\u001b[0m\u001b[0mhistory\u001b[0m\u001b[0;34m[\u001b[0m\u001b[0;34m'loss'\u001b[0m\u001b[0;34m]\u001b[0m\u001b[0;34m\u001b[0m\u001b[0;34m\u001b[0m\u001b[0m\n",
            "\u001b[0;31mNameError\u001b[0m: name 'history' is not defined"
          ]
        }
      ]
    },
    {
      "cell_type": "code",
      "metadata": {
        "id": "LqL6FYUrtXpf",
        "outputId": "3fb7dc33-aed7-4f87-b09c-3ed6b70f0634",
        "colab": {
          "resources": {
            "http://localhost:8080/nbextensions/google.colab/files.js": {
              "data": "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",
              "ok": true,
              "headers": [
                [
                  "content-type",
                  "application/javascript"
                ]
              ],
              "status": 200,
              "status_text": "OK"
            }
          },
          "base_uri": "https://localhost:8080/",
          "height": 132
        }
      },
      "source": [
        "# Here's a codeblock just for fun. You should be able to upload an image here \n",
        "# and have it classified without crashing\n",
        "\n",
        "import numpy as np\n",
        "from google.colab import files\n",
        "from keras.preprocessing import image\n",
        "\n",
        "uploaded = files.upload()\n",
        "\n",
        "for fn in uploaded.keys():\n",
        " \n",
        "    # predicting images\n",
        "    path = '/content/' + fn\n",
        "    img = image.load_img(path, target_size=(150, 150))\n",
        "    x = image.img_to_array(img)\n",
        "    x = np.expand_dims(x, axis=0)\n",
        "\n",
        "    images = np.vstack([x])\n",
        "    classes = model.predict(images, batch_size=10)\n",
        "    print(classes[0])\n",
        "    if classes[0] > 0.5:\n",
        "        print(fn + \" is a dog\")\n",
        "    else:\n",
        "        print(fn + \" is a cat\")"
      ],
      "execution_count": null,
      "outputs": [
        {
          "output_type": "stream",
          "text": [
            "Using TensorFlow backend.\n"
          ],
          "name": "stderr"
        },
        {
          "output_type": "display_data",
          "data": {
            "text/html": [
              "\n",
              "     <input type=\"file\" id=\"files-92abcdad-1594-4518-bf2e-b48177b35c81\" name=\"files[]\" multiple disabled />\n",
              "     <output id=\"result-92abcdad-1594-4518-bf2e-b48177b35c81\">\n",
              "      Upload widget is only available when the cell has been executed in the\n",
              "      current browser session. Please rerun this cell to enable.\n",
              "      </output>\n",
              "      <script src=\"/nbextensions/google.colab/files.js\"></script> "
            ],
            "text/plain": [
              "<IPython.core.display.HTML object>"
            ]
          },
          "metadata": {
            "tags": []
          }
        },
        {
          "output_type": "stream",
          "text": [
            "Saving IMG_8126.jpg to IMG_8126.jpg\n",
            "[1.]\n",
            "IMG_8126.jpg is a dog\n"
          ],
          "name": "stdout"
        }
      ]
    },
    {
      "cell_type": "code",
      "metadata": {
        "id": "Bz5vqTWoFx6R"
      },
      "source": [
        ""
      ],
      "execution_count": null,
      "outputs": []
    }
  ]
}