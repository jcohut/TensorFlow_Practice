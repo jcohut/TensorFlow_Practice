{
  "nbformat": 4,
  "nbformat_minor": 0,
  "metadata": {
    "accelerator": "GPU",
    "colab": {
      "name": "Copy of Course 3 - Week 3 - Lesson 2c.ipynb",
      "provenance": [],
      "collapsed_sections": [],
      "toc_visible": true,
      "include_colab_link": true
    },
    "kernelspec": {
      "display_name": "Python 3",
      "language": "python",
      "name": "python3"
    },
    "language_info": {
      "codemirror_mode": {
        "name": "ipython",
        "version": 3
      },
      "file_extension": ".py",
      "mimetype": "text/x-python",
      "name": "python",
      "nbconvert_exporter": "python",
      "pygments_lexer": "ipython3",
      "version": "3.7.6"
    }
  },
  "cells": [
    {
      "cell_type": "markdown",
      "metadata": {
        "id": "view-in-github",
        "colab_type": "text"
      },
      "source": [
        "<a href=\"https://colab.research.google.com/github/jcohut/TensorFlow_Practice/blob/main/Copy_of_Course_3_Week_3_Lesson_2c.ipynb\" target=\"_parent\"><img src=\"https://colab.research.google.com/assets/colab-badge.svg\" alt=\"Open In Colab\"/></a>"
      ]
    },
    {
      "cell_type": "code",
      "metadata": {
        "id": "zX4Kg8DUTKWO"
      },
      "source": [
        "#@title Licensed under the Apache License, Version 2.0 (the \"License\");\n",
        "# you may not use this file except in compliance with the License.\n",
        "# You may obtain a copy of the License at\n",
        "#\n",
        "# https://www.apache.org/licenses/LICENSE-2.0\n",
        "#\n",
        "# Unless required by applicable law or agreed to in writing, software\n",
        "# distributed under the License is distributed on an \"AS IS\" BASIS,\n",
        "# WITHOUT WARRANTIES OR CONDITIONS OF ANY KIND, either express or implied.\n",
        "# See the License for the specific language governing permissions and\n",
        "# limitations under the License."
      ],
      "execution_count": null,
      "outputs": []
    },
    {
      "cell_type": "markdown",
      "metadata": {
        "id": "ZUeCax5eZF0e"
      },
      "source": [
        "<a href=\"https://colab.research.google.com/github/lmoroney/dlaicourse/blob/master/TensorFlow%20In%20Practice/Course%203%20-%20NLP/Course%203%20-%20Week%203%20-%20Lesson%202c.ipynb\" target=\"_parent\"><img src=\"https://colab.research.google.com/assets/colab-badge.svg\" alt=\"Open In Colab\"/></a>"
      ]
    },
    {
      "cell_type": "code",
      "metadata": {
        "id": "jGwXGIXvFhXW",
        "outputId": "74e7f84a-a88d-4c60-92a8-bc207606b8e2",
        "colab": {
          "base_uri": "https://localhost:8080/",
          "height": 1000
        }
      },
      "source": [
        "import numpy as np\n",
        "\n",
        "import json\n",
        "import tensorflow as tf\n",
        "\n",
        "from tensorflow.keras.preprocessing.text import Tokenizer\n",
        "from tensorflow.keras.preprocessing.sequence import pad_sequences\n",
        "\n",
        "!wget --no-check-certificate \\\n",
        "    https://storage.googleapis.com/laurencemoroney-blog.appspot.com/sarcasm.json \\\n",
        "    -O /tmp/sarcasm.json\n",
        "\n",
        "vocab_size = 1000\n",
        "embedding_dim = 16\n",
        "max_length = 120\n",
        "trunc_type='post'\n",
        "padding_type='post'\n",
        "oov_tok = \"<OOV>\"\n",
        "training_size = 20000\n",
        "\n",
        "\n",
        "with open(\"/tmp/sarcasm.json\", 'r') as f:\n",
        "    datastore = json.load(f)\n",
        "\n",
        "\n",
        "sentences = []\n",
        "labels = []\n",
        "urls = []\n",
        "for item in datastore:\n",
        "    sentences.append(item['headline'])\n",
        "    labels.append(item['is_sarcastic'])\n",
        "\n",
        "training_sentences = sentences[0:training_size]\n",
        "testing_sentences = sentences[training_size:]\n",
        "training_labels = labels[0:training_size]\n",
        "testing_labels = labels[training_size:]\n",
        "\n",
        "tokenizer = Tokenizer(num_words=vocab_size, oov_token=oov_tok)\n",
        "tokenizer.fit_on_texts(training_sentences)\n",
        "\n",
        "word_index = tokenizer.word_index\n",
        "\n",
        "training_sequences = tokenizer.texts_to_sequences(training_sentences)\n",
        "training_padded = pad_sequences(training_sequences, maxlen=max_length, padding=padding_type, truncating=trunc_type)\n",
        "\n",
        "testing_sequences = tokenizer.texts_to_sequences(testing_sentences)\n",
        "testing_padded = pad_sequences(testing_sequences, maxlen=max_length, padding=padding_type, truncating=trunc_type)\n",
        "\n",
        "model = tf.keras.Sequential([\n",
        "    tf.keras.layers.Embedding(vocab_size, embedding_dim, input_length=max_length),\n",
        "    tf.keras.layers.Conv1D(128, 5, activation='relu'),\n",
        "    tf.keras.layers.GlobalMaxPooling1D(),\n",
        "    tf.keras.layers.Dense(24, activation='relu'),\n",
        "    tf.keras.layers.Dense(1, activation='sigmoid')\n",
        "])\n",
        "model.compile(loss='binary_crossentropy',optimizer='adam',metrics=['accuracy'])\n",
        "model.summary()\n",
        "\n",
        "num_epochs = 50\n",
        "\n",
        "training_padded = np.array(training_padded)\n",
        "training_labels = np.array(training_labels)\n",
        "testing_padded = np.array(testing_padded)\n",
        "testing_labels = np.array(testing_labels)\n",
        "\n",
        "history = model.fit(training_padded, training_labels, epochs=num_epochs, validation_data=(testing_padded, testing_labels), verbose=1)\n"
      ],
      "execution_count": 1,
      "outputs": [
        {
          "output_type": "stream",
          "text": [
            "--2020-10-14 03:31:08--  https://storage.googleapis.com/laurencemoroney-blog.appspot.com/sarcasm.json\n",
            "Resolving storage.googleapis.com (storage.googleapis.com)... 172.217.193.128, 172.217.204.128, 173.194.210.128, ...\n",
            "Connecting to storage.googleapis.com (storage.googleapis.com)|172.217.193.128|:443... connected.\n",
            "HTTP request sent, awaiting response... 200 OK\n",
            "Length: 5643545 (5.4M) [application/json]\n",
            "Saving to: ‘/tmp/sarcasm.json’\n",
            "\n",
            "\r/tmp/sarcasm.json     0%[                    ]       0  --.-KB/s               \r/tmp/sarcasm.json   100%[===================>]   5.38M  --.-KB/s    in 0.04s   \n",
            "\n",
            "2020-10-14 03:31:08 (130 MB/s) - ‘/tmp/sarcasm.json’ saved [5643545/5643545]\n",
            "\n",
            "Model: \"sequential\"\n",
            "_________________________________________________________________\n",
            "Layer (type)                 Output Shape              Param #   \n",
            "=================================================================\n",
            "embedding (Embedding)        (None, 120, 16)           16000     \n",
            "_________________________________________________________________\n",
            "conv1d (Conv1D)              (None, 116, 128)          10368     \n",
            "_________________________________________________________________\n",
            "global_max_pooling1d (Global (None, 128)               0         \n",
            "_________________________________________________________________\n",
            "dense (Dense)                (None, 24)                3096      \n",
            "_________________________________________________________________\n",
            "dense_1 (Dense)              (None, 1)                 25        \n",
            "=================================================================\n",
            "Total params: 29,489\n",
            "Trainable params: 29,489\n",
            "Non-trainable params: 0\n",
            "_________________________________________________________________\n",
            "Epoch 1/50\n",
            "625/625 [==============================] - 3s 5ms/step - loss: 0.4744 - accuracy: 0.7550 - val_loss: 0.4052 - val_accuracy: 0.8164\n",
            "Epoch 2/50\n",
            "625/625 [==============================] - 3s 5ms/step - loss: 0.3601 - accuracy: 0.8392 - val_loss: 0.3960 - val_accuracy: 0.8188\n",
            "Epoch 3/50\n",
            "625/625 [==============================] - 3s 6ms/step - loss: 0.3276 - accuracy: 0.8545 - val_loss: 0.3920 - val_accuracy: 0.8179\n",
            "Epoch 4/50\n",
            "625/625 [==============================] - 3s 5ms/step - loss: 0.2965 - accuracy: 0.8706 - val_loss: 0.4053 - val_accuracy: 0.8213\n",
            "Epoch 5/50\n",
            "625/625 [==============================] - 3s 5ms/step - loss: 0.2665 - accuracy: 0.8857 - val_loss: 0.4506 - val_accuracy: 0.8065\n",
            "Epoch 6/50\n",
            "625/625 [==============================] - 3s 5ms/step - loss: 0.2379 - accuracy: 0.9026 - val_loss: 0.4357 - val_accuracy: 0.8147\n",
            "Epoch 7/50\n",
            "625/625 [==============================] - 3s 5ms/step - loss: 0.2051 - accuracy: 0.9155 - val_loss: 0.4712 - val_accuracy: 0.8101\n",
            "Epoch 8/50\n",
            "625/625 [==============================] - 3s 5ms/step - loss: 0.1769 - accuracy: 0.9306 - val_loss: 0.5194 - val_accuracy: 0.8043\n",
            "Epoch 9/50\n",
            "625/625 [==============================] - 3s 5ms/step - loss: 0.1490 - accuracy: 0.9442 - val_loss: 0.5826 - val_accuracy: 0.8046\n",
            "Epoch 10/50\n",
            "625/625 [==============================] - 3s 5ms/step - loss: 0.1252 - accuracy: 0.9534 - val_loss: 0.6242 - val_accuracy: 0.7995\n",
            "Epoch 11/50\n",
            "625/625 [==============================] - 3s 5ms/step - loss: 0.1064 - accuracy: 0.9607 - val_loss: 0.6946 - val_accuracy: 0.8000\n",
            "Epoch 12/50\n",
            "625/625 [==============================] - 3s 5ms/step - loss: 0.0879 - accuracy: 0.9684 - val_loss: 0.7710 - val_accuracy: 0.7980\n",
            "Epoch 13/50\n",
            "625/625 [==============================] - 3s 5ms/step - loss: 0.0733 - accuracy: 0.9740 - val_loss: 0.8714 - val_accuracy: 0.7934\n",
            "Epoch 14/50\n",
            "625/625 [==============================] - 3s 5ms/step - loss: 0.0646 - accuracy: 0.9771 - val_loss: 0.9078 - val_accuracy: 0.7985\n",
            "Epoch 15/50\n",
            "625/625 [==============================] - 3s 5ms/step - loss: 0.0566 - accuracy: 0.9801 - val_loss: 0.9727 - val_accuracy: 0.7916\n",
            "Epoch 16/50\n",
            "625/625 [==============================] - 3s 5ms/step - loss: 0.0516 - accuracy: 0.9822 - val_loss: 1.0652 - val_accuracy: 0.7909\n",
            "Epoch 17/50\n",
            "625/625 [==============================] - 3s 5ms/step - loss: 0.0454 - accuracy: 0.9842 - val_loss: 1.1494 - val_accuracy: 0.7927\n",
            "Epoch 18/50\n",
            "625/625 [==============================] - 3s 5ms/step - loss: 0.0403 - accuracy: 0.9858 - val_loss: 1.2855 - val_accuracy: 0.7882\n",
            "Epoch 19/50\n",
            "625/625 [==============================] - 3s 5ms/step - loss: 0.0382 - accuracy: 0.9865 - val_loss: 1.3404 - val_accuracy: 0.7900\n",
            "Epoch 20/50\n",
            "625/625 [==============================] - 3s 5ms/step - loss: 0.0385 - accuracy: 0.9854 - val_loss: 1.3695 - val_accuracy: 0.7849\n",
            "Epoch 21/50\n",
            "625/625 [==============================] - 3s 5ms/step - loss: 0.0423 - accuracy: 0.9834 - val_loss: 1.3624 - val_accuracy: 0.7824\n",
            "Epoch 22/50\n",
            "625/625 [==============================] - 3s 5ms/step - loss: 0.0334 - accuracy: 0.9870 - val_loss: 1.5084 - val_accuracy: 0.7858\n",
            "Epoch 23/50\n",
            "625/625 [==============================] - 3s 5ms/step - loss: 0.0299 - accuracy: 0.9887 - val_loss: 1.5603 - val_accuracy: 0.7874\n",
            "Epoch 24/50\n",
            "625/625 [==============================] - 3s 5ms/step - loss: 0.0327 - accuracy: 0.9863 - val_loss: 1.4455 - val_accuracy: 0.7906\n",
            "Epoch 25/50\n",
            "625/625 [==============================] - 3s 5ms/step - loss: 0.0352 - accuracy: 0.9862 - val_loss: 1.5421 - val_accuracy: 0.7903\n",
            "Epoch 26/50\n",
            "625/625 [==============================] - 3s 5ms/step - loss: 0.0318 - accuracy: 0.9873 - val_loss: 1.6439 - val_accuracy: 0.7864\n",
            "Epoch 27/50\n",
            "625/625 [==============================] - 3s 5ms/step - loss: 0.0277 - accuracy: 0.9890 - val_loss: 1.6830 - val_accuracy: 0.7873\n",
            "Epoch 28/50\n",
            "625/625 [==============================] - 3s 5ms/step - loss: 0.0252 - accuracy: 0.9902 - val_loss: 1.7588 - val_accuracy: 0.7863\n",
            "Epoch 29/50\n",
            "625/625 [==============================] - 3s 5ms/step - loss: 0.0250 - accuracy: 0.9897 - val_loss: 1.7451 - val_accuracy: 0.7866\n",
            "Epoch 30/50\n",
            "625/625 [==============================] - 3s 5ms/step - loss: 0.0351 - accuracy: 0.9850 - val_loss: 1.7822 - val_accuracy: 0.7883\n",
            "Epoch 31/50\n",
            "625/625 [==============================] - 3s 5ms/step - loss: 0.0307 - accuracy: 0.9874 - val_loss: 1.8330 - val_accuracy: 0.7839\n",
            "Epoch 32/50\n",
            "625/625 [==============================] - 3s 5ms/step - loss: 0.0257 - accuracy: 0.9895 - val_loss: 1.9378 - val_accuracy: 0.7824\n",
            "Epoch 33/50\n",
            "625/625 [==============================] - 3s 5ms/step - loss: 0.0248 - accuracy: 0.9894 - val_loss: 1.9731 - val_accuracy: 0.7815\n",
            "Epoch 34/50\n",
            "625/625 [==============================] - 3s 5ms/step - loss: 0.0212 - accuracy: 0.9909 - val_loss: 2.0060 - val_accuracy: 0.7869\n",
            "Epoch 35/50\n",
            "625/625 [==============================] - 3s 5ms/step - loss: 0.0258 - accuracy: 0.9894 - val_loss: 1.9505 - val_accuracy: 0.7858\n",
            "Epoch 36/50\n",
            "625/625 [==============================] - 3s 5ms/step - loss: 0.0252 - accuracy: 0.9897 - val_loss: 1.9505 - val_accuracy: 0.7860\n",
            "Epoch 37/50\n",
            "625/625 [==============================] - 3s 5ms/step - loss: 0.0250 - accuracy: 0.9894 - val_loss: 2.0346 - val_accuracy: 0.7866\n",
            "Epoch 38/50\n",
            "625/625 [==============================] - 3s 5ms/step - loss: 0.0226 - accuracy: 0.9905 - val_loss: 2.0541 - val_accuracy: 0.7869\n",
            "Epoch 39/50\n",
            "625/625 [==============================] - 3s 5ms/step - loss: 0.0234 - accuracy: 0.9898 - val_loss: 2.0903 - val_accuracy: 0.7931\n",
            "Epoch 40/50\n",
            "625/625 [==============================] - 3s 5ms/step - loss: 0.0204 - accuracy: 0.9914 - val_loss: 2.0264 - val_accuracy: 0.7940\n",
            "Epoch 41/50\n",
            "625/625 [==============================] - 3s 5ms/step - loss: 0.0212 - accuracy: 0.9908 - val_loss: 2.1633 - val_accuracy: 0.7894\n",
            "Epoch 42/50\n",
            "625/625 [==============================] - 3s 5ms/step - loss: 0.0256 - accuracy: 0.9895 - val_loss: 2.1287 - val_accuracy: 0.7925\n",
            "Epoch 43/50\n",
            "625/625 [==============================] - 3s 5ms/step - loss: 0.0212 - accuracy: 0.9904 - val_loss: 2.3000 - val_accuracy: 0.7863\n",
            "Epoch 44/50\n",
            "625/625 [==============================] - 3s 5ms/step - loss: 0.0220 - accuracy: 0.9905 - val_loss: 2.2289 - val_accuracy: 0.7913\n",
            "Epoch 45/50\n",
            "625/625 [==============================] - 3s 5ms/step - loss: 0.0204 - accuracy: 0.9910 - val_loss: 2.2072 - val_accuracy: 0.7880\n",
            "Epoch 46/50\n",
            "625/625 [==============================] - 3s 5ms/step - loss: 0.0210 - accuracy: 0.9908 - val_loss: 2.2238 - val_accuracy: 0.7845\n",
            "Epoch 47/50\n",
            "625/625 [==============================] - 3s 5ms/step - loss: 0.0188 - accuracy: 0.9920 - val_loss: 2.3734 - val_accuracy: 0.7909\n",
            "Epoch 48/50\n",
            "625/625 [==============================] - 3s 5ms/step - loss: 0.0226 - accuracy: 0.9901 - val_loss: 2.3608 - val_accuracy: 0.7948\n",
            "Epoch 49/50\n",
            "625/625 [==============================] - 3s 5ms/step - loss: 0.0214 - accuracy: 0.9913 - val_loss: 2.3522 - val_accuracy: 0.7885\n",
            "Epoch 50/50\n",
            "625/625 [==============================] - 3s 5ms/step - loss: 0.0200 - accuracy: 0.9909 - val_loss: 2.2247 - val_accuracy: 0.7873\n"
          ],
          "name": "stdout"
        }
      ]
    },
    {
      "cell_type": "code",
      "metadata": {
        "id": "g9DC6dmLF8DC",
        "outputId": "5c271f09-e763-4295-8681-612685d93108",
        "colab": {
          "base_uri": "https://localhost:8080/",
          "height": 542
        }
      },
      "source": [
        "import matplotlib.pyplot as plt\n",
        "\n",
        "\n",
        "def plot_graphs(history, string):\n",
        "  plt.plot(history.history[string])\n",
        "  plt.plot(history.history['val_'+string])\n",
        "  plt.xlabel(\"Epochs\")\n",
        "  plt.ylabel(string)\n",
        "  plt.legend([string, 'val_'+string])\n",
        "  plt.show()\n",
        "\n",
        "plot_graphs(history, 'accuracy')\n",
        "plot_graphs(history, 'loss')"
      ],
      "execution_count": 2,
      "outputs": [
        {
          "output_type": "display_data",
          "data": {
            "image/png": "[encoded data removed]",
            "text/plain": [
              "<Figure size 432x288 with 1 Axes>"
            ]
          },
          "metadata": {
            "tags": [],
            "needs_background": "light"
          }
        },
        {
          "output_type": "display_data",
          "data": {
            "image/png": "[encoded data removed]",
            "text/plain": [
              "<Figure size 432x288 with 1 Axes>"
            ]
          },
          "metadata": {
            "tags": [],
            "needs_background": "light"
          }
        }
      ]
    },
    {
      "cell_type": "code",
      "metadata": {
        "id": "7ZEZIUppGhdi"
      },
      "source": [
        "model.save(\"test.h5\")"
      ],
      "execution_count": 3,
      "outputs": []
    }
  ]
}