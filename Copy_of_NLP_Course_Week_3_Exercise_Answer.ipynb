{
  "nbformat": 4,
  "nbformat_minor": 0,
  "metadata": {
    "accelerator": "GPU",
    "colab": {
      "name": "Copy of NLP Course - Week 3 Exercise Answer.ipynb",
      "provenance": [],
      "collapsed_sections": [],
      "toc_visible": true,
      "include_colab_link": true
    },
    "kernelspec": {
      "display_name": "Python 3",
      "language": "python",
      "name": "python3"
    },
    "language_info": {
      "codemirror_mode": {
        "name": "ipython",
        "version": 3
      },
      "file_extension": ".py",
      "mimetype": "text/x-python",
      "name": "python",
      "nbconvert_exporter": "python",
      "pygments_lexer": "ipython3",
      "version": "3.7.6"
    }
  },
  "cells": [
    {
      "cell_type": "markdown",
      "metadata": {
        "id": "view-in-github",
        "colab_type": "text"
      },
      "source": [
        "<a href=\"https://colab.research.google.com/github/jcohut/TensorFlow_Practice/blob/main/Copy_of_NLP_Course_Week_3_Exercise_Answer.ipynb\" target=\"_parent\"><img src=\"https://colab.research.google.com/assets/colab-badge.svg\" alt=\"Open In Colab\"/></a>"
      ]
    },
    {
      "cell_type": "code",
      "metadata": {
        "id": "zX4Kg8DUTKWO"
      },
      "source": [
        "#@title Licensed under the Apache License, Version 2.0 (the \"License\");\n",
        "# you may not use this file except in compliance with the License.\n",
        "# You may obtain a copy of the License at\n",
        "#\n",
        "# https://www.apache.org/licenses/LICENSE-2.0\n",
        "#\n",
        "# Unless required by applicable law or agreed to in writing, software\n",
        "# distributed under the License is distributed on an \"AS IS\" BASIS,\n",
        "# WITHOUT WARRANTIES OR CONDITIONS OF ANY KIND, either express or implied.\n",
        "# See the License for the specific language governing permissions and\n",
        "# limitations under the License."
      ],
      "execution_count": null,
      "outputs": []
    },
    {
      "cell_type": "markdown",
      "metadata": {
        "id": "FADgy2RRCp--"
      },
      "source": [
        "<a href=\"https://colab.research.google.com/github/lmoroney/dlaicourse/blob/master/TensorFlow%20In%20Practice/Course%203%20-%20NLP/NLP%20Course%20-%20Week%203%20Exercise%20Answer.ipynb\" target=\"_parent\"><img src=\"https://colab.research.google.com/assets/colab-badge.svg\" alt=\"Open In Colab\"/></a>"
      ]
    },
    {
      "cell_type": "code",
      "metadata": {
        "id": "hmA6EzkQJ5jt"
      },
      "source": [
        "import json\n",
        "import tensorflow as tf\n",
        "import csv\n",
        "import random\n",
        "import numpy as np\n",
        "\n",
        "from tensorflow.keras.preprocessing.text import Tokenizer\n",
        "from tensorflow.keras.preprocessing.sequence import pad_sequences\n",
        "from tensorflow.keras.utils import to_categorical\n",
        "from tensorflow.keras import regularizers\n",
        "\n",
        "\n",
        "embedding_dim = 100\n",
        "max_length = 16\n",
        "trunc_type='post'\n",
        "padding_type='post'\n",
        "oov_tok = \"<OOV>\"\n",
        "training_size=160000\n",
        "test_portion=.1\n",
        "\n",
        "corpus = []\n"
      ],
      "execution_count": 1,
      "outputs": []
    },
    {
      "cell_type": "code",
      "metadata": {
        "id": "bM0l_dORKqE0",
        "outputId": "a049f689-ca55-4502-94c0-b592dd891111",
        "colab": {
          "base_uri": "https://localhost:8080/",
          "height": 204
        }
      },
      "source": [
        "# Note that I cleaned the Stanford dataset to remove LATIN1 encoding to make it easier for Python CSV reader\n",
        "# You can do that yourself with:\n",
        "# iconv -f LATIN1 -t UTF8 training.1600000.processed.noemoticon.csv -o training_cleaned.csv\n",
        "# I then hosted it on my site to make it easier to use in this notebook\n",
        "\n",
        "!wget --no-check-certificate \\\n",
        "    https://storage.googleapis.com/laurencemoroney-blog.appspot.com/training_cleaned.csv \\\n",
        "    -O /tmp/training_cleaned.csv\n",
        "\n",
        "num_sentences = 0\n",
        "\n",
        "with open(\"/tmp/training_cleaned.csv\") as csvfile:\n",
        "    reader = csv.reader(csvfile, delimiter=',')\n",
        "    for row in reader:\n",
        "        list_item=[]\n",
        "        list_item.append(row[5])\n",
        "        this_label=row[0]\n",
        "        if this_label=='0':\n",
        "            list_item.append(0)\n",
        "        else:\n",
        "            list_item.append(1)\n",
        "        num_sentences = num_sentences + 1\n",
        "        corpus.append(list_item)\n"
      ],
      "execution_count": 2,
      "outputs": [
        {
          "output_type": "stream",
          "text": [
            "--2020-10-14 03:34:25--  https://storage.googleapis.com/laurencemoroney-blog.appspot.com/training_cleaned.csv\n",
            "Resolving storage.googleapis.com (storage.googleapis.com)... 74.125.195.128, 74.125.142.128, 74.125.20.128, ...\n",
            "Connecting to storage.googleapis.com (storage.googleapis.com)|74.125.195.128|:443... connected.\n",
            "HTTP request sent, awaiting response... 200 OK\n",
            "Length: 238942690 (228M) [application/octet-stream]\n",
            "Saving to: ‘/tmp/training_cleaned.csv’\n",
            "\n",
            "/tmp/training_clean 100%[===================>] 227.87M  74.0MB/s    in 3.1s    \n",
            "\n",
            "2020-10-14 03:34:29 (74.0 MB/s) - ‘/tmp/training_cleaned.csv’ saved [238942690/238942690]\n",
            "\n"
          ],
          "name": "stdout"
        }
      ]
    },
    {
      "cell_type": "code",
      "metadata": {
        "id": "3kxblBUjEUX-",
        "outputId": "d73e13d3-3b9f-4ac7-c161-6b3e669db7a6",
        "colab": {
          "base_uri": "https://localhost:8080/",
          "height": 68
        }
      },
      "source": [
        "print(num_sentences)\n",
        "print(len(corpus))\n",
        "print(corpus[1])\n",
        "\n",
        "# Expected Output:\n",
        "# 1600000\n",
        "# 1600000\n",
        "# [\"is upset that he can't update his Facebook by texting it... and might cry as a result  School today also. Blah!\", 0]"
      ],
      "execution_count": 3,
      "outputs": [
        {
          "output_type": "stream",
          "text": [
            "1600000\n",
            "1600000\n",
            "[\"is upset that he can't update his Facebook by texting it... and might cry as a result  School today also. Blah!\", 0]\n"
          ],
          "name": "stdout"
        }
      ]
    },
    {
      "cell_type": "code",
      "metadata": {
        "id": "ohOGz24lsNAD"
      },
      "source": [
        "sentences=[]\n",
        "labels=[]\n",
        "random.shuffle(corpus)\n",
        "for x in range(training_size):\n",
        "    sentences.append(corpus[x][0])\n",
        "    labels.append(corpus[x][1])\n",
        "\n",
        "\n",
        "tokenizer = Tokenizer()\n",
        "tokenizer.fit_on_texts(sentences)\n",
        "\n",
        "word_index = tokenizer.word_index\n",
        "vocab_size=len(word_index)\n",
        "\n",
        "sequences = tokenizer.texts_to_sequences(sentences)\n",
        "padded = pad_sequences(sequences, maxlen=max_length, padding=padding_type, truncating=trunc_type)\n",
        "\n",
        "split = int(test_portion * training_size)\n",
        "\n",
        "test_sequences = padded[0:split]\n",
        "training_sequences = padded[split:training_size]\n",
        "test_labels = labels[0:split]\n",
        "training_labels = labels[split:training_size]"
      ],
      "execution_count": 4,
      "outputs": []
    },
    {
      "cell_type": "code",
      "metadata": {
        "id": "gIrtRem1En3N",
        "outputId": "a5621e0d-feb3-4cb0-9f5c-9d32bf433402",
        "colab": {
          "base_uri": "https://localhost:8080/",
          "height": 51
        }
      },
      "source": [
        "print(vocab_size)\n",
        "print(word_index['i'])\n",
        "# Expected Output\n",
        "# 138858\n",
        "# 1"
      ],
      "execution_count": 5,
      "outputs": [
        {
          "output_type": "stream",
          "text": [
            "138892\n",
            "1\n"
          ],
          "name": "stdout"
        }
      ]
    },
    {
      "cell_type": "code",
      "metadata": {
        "id": "C1zdgJkusRh0",
        "outputId": "2a5d8a70-f32f-471a-d7b1-b6935b27a703",
        "colab": {
          "base_uri": "https://localhost:8080/",
          "height": 204
        }
      },
      "source": [
        "# Note this is the 100 dimension version of GloVe from Stanford\n",
        "# I unzipped and hosted it on my site to make this notebook easier\n",
        "!wget --no-check-certificate \\\n",
        "    https://storage.googleapis.com/laurencemoroney-blog.appspot.com/glove.6B.100d.txt \\\n",
        "    -O /tmp/glove.6B.100d.txt\n",
        "embeddings_index = {};\n",
        "with open('/tmp/glove.6B.100d.txt') as f:\n",
        "    for line in f:\n",
        "        values = line.split();\n",
        "        word = values[0];\n",
        "        coefs = np.asarray(values[1:], dtype='float32');\n",
        "        embeddings_index[word] = coefs;\n",
        "\n",
        "embeddings_matrix = np.zeros((vocab_size+1, embedding_dim));\n",
        "for word, i in word_index.items():\n",
        "    embedding_vector = embeddings_index.get(word);\n",
        "    if embedding_vector is not None:\n",
        "        embeddings_matrix[i] = embedding_vector;"
      ],
      "execution_count": 6,
      "outputs": [
        {
          "output_type": "stream",
          "text": [
            "--2020-10-14 03:34:43--  https://storage.googleapis.com/laurencemoroney-blog.appspot.com/glove.6B.100d.txt\n",
            "Resolving storage.googleapis.com (storage.googleapis.com)... 74.125.20.128, 142.250.99.128, 74.125.195.128, ...\n",
            "Connecting to storage.googleapis.com (storage.googleapis.com)|74.125.20.128|:443... connected.\n",
            "HTTP request sent, awaiting response... 200 OK\n",
            "Length: 347116733 (331M) [text/plain]\n",
            "Saving to: ‘/tmp/glove.6B.100d.txt’\n",
            "\n",
            "/tmp/glove.6B.100d. 100%[===================>] 331.04M  76.8MB/s    in 4.3s    \n",
            "\n",
            "2020-10-14 03:34:47 (76.8 MB/s) - ‘/tmp/glove.6B.100d.txt’ saved [347116733/347116733]\n",
            "\n"
          ],
          "name": "stdout"
        }
      ]
    },
    {
      "cell_type": "code",
      "metadata": {
        "id": "71NLk_lpFLNt",
        "outputId": "b160c401-9776-4f77-bf3e-f3e62dee61e0",
        "colab": {
          "base_uri": "https://localhost:8080/",
          "height": 34
        }
      },
      "source": [
        "print(len(embeddings_matrix))\n",
        "# Expected Output\n",
        "# 138859"
      ],
      "execution_count": 7,
      "outputs": [
        {
          "output_type": "stream",
          "text": [
            "138893\n"
          ],
          "name": "stdout"
        }
      ]
    },
    {
      "cell_type": "code",
      "metadata": {
        "id": "iKKvbuEBOGFz",
        "outputId": "68c73f5e-a78d-4825-c01a-83afe33f9aaa",
        "colab": {
          "base_uri": "https://localhost:8080/",
          "height": 1000
        }
      },
      "source": [
        "model = tf.keras.Sequential([\n",
        "    tf.keras.layers.Embedding(vocab_size+1, embedding_dim, input_length=max_length, weights=[embeddings_matrix], trainable=False),\n",
        "    tf.keras.layers.Dropout(0.2),\n",
        "    tf.keras.layers.Conv1D(64, 5, activation='relu'),\n",
        "    tf.keras.layers.MaxPooling1D(pool_size=4),\n",
        "    tf.keras.layers.LSTM(64),\n",
        "    tf.keras.layers.Dense(1, activation='sigmoid')\n",
        "])\n",
        "model.compile(loss='binary_crossentropy',optimizer='adam',metrics=['accuracy'])\n",
        "model.summary()\n",
        "\n",
        "num_epochs = 50\n",
        "\n",
        "training_padded = np.array(training_sequences)\n",
        "training_labels = np.array(training_labels)\n",
        "testing_padded = np.array(test_sequences)\n",
        "testing_labels = np.array(test_labels)\n",
        "\n",
        "history = model.fit(training_padded, training_labels, epochs=num_epochs, validation_data=(testing_padded, testing_labels), verbose=2)\n",
        "\n",
        "print(\"Training Complete\")"
      ],
      "execution_count": 8,
      "outputs": [
        {
          "output_type": "stream",
          "text": [
            "Model: \"sequential\"\n",
            "_________________________________________________________________\n",
            "Layer (type)                 Output Shape              Param #   \n",
            "=================================================================\n",
            "embedding (Embedding)        (None, 16, 100)           13889300  \n",
            "_________________________________________________________________\n",
            "dropout (Dropout)            (None, 16, 100)           0         \n",
            "_________________________________________________________________\n",
            "conv1d (Conv1D)              (None, 12, 64)            32064     \n",
            "_________________________________________________________________\n",
            "max_pooling1d (MaxPooling1D) (None, 3, 64)             0         \n",
            "_________________________________________________________________\n",
            "lstm (LSTM)                  (None, 64)                33024     \n",
            "_________________________________________________________________\n",
            "dense (Dense)                (None, 1)                 65        \n",
            "=================================================================\n",
            "Total params: 13,954,453\n",
            "Trainable params: 65,153\n",
            "Non-trainable params: 13,889,300\n",
            "_________________________________________________________________\n",
            "Epoch 1/50\n",
            "4500/4500 - 19s - loss: 0.5672 - accuracy: 0.6988 - val_loss: 0.5306 - val_accuracy: 0.7309\n",
            "Epoch 2/50\n",
            "4500/4500 - 18s - loss: 0.5273 - accuracy: 0.7312 - val_loss: 0.5270 - val_accuracy: 0.7280\n",
            "Epoch 3/50\n",
            "4500/4500 - 18s - loss: 0.5121 - accuracy: 0.7431 - val_loss: 0.5103 - val_accuracy: 0.7432\n",
            "Epoch 4/50\n",
            "4500/4500 - 18s - loss: 0.5011 - accuracy: 0.7492 - val_loss: 0.5075 - val_accuracy: 0.7492\n",
            "Epoch 5/50\n",
            "4500/4500 - 18s - loss: 0.4912 - accuracy: 0.7572 - val_loss: 0.5055 - val_accuracy: 0.7487\n",
            "Epoch 6/50\n",
            "4500/4500 - 18s - loss: 0.4836 - accuracy: 0.7628 - val_loss: 0.5092 - val_accuracy: 0.7494\n",
            "Epoch 7/50\n",
            "4500/4500 - 18s - loss: 0.4773 - accuracy: 0.7657 - val_loss: 0.5107 - val_accuracy: 0.7459\n",
            "Epoch 8/50\n",
            "4500/4500 - 19s - loss: 0.4741 - accuracy: 0.7673 - val_loss: 0.5051 - val_accuracy: 0.7507\n",
            "Epoch 9/50\n",
            "4500/4500 - 19s - loss: 0.4690 - accuracy: 0.7718 - val_loss: 0.5095 - val_accuracy: 0.7501\n",
            "Epoch 10/50\n",
            "4500/4500 - 18s - loss: 0.4658 - accuracy: 0.7724 - val_loss: 0.5035 - val_accuracy: 0.7549\n",
            "Epoch 11/50\n",
            "4500/4500 - 18s - loss: 0.4609 - accuracy: 0.7765 - val_loss: 0.5054 - val_accuracy: 0.7554\n",
            "Epoch 12/50\n",
            "4500/4500 - 18s - loss: 0.4576 - accuracy: 0.7785 - val_loss: 0.5066 - val_accuracy: 0.7528\n",
            "Epoch 13/50\n",
            "4500/4500 - 18s - loss: 0.4569 - accuracy: 0.7795 - val_loss: 0.5111 - val_accuracy: 0.7501\n",
            "Epoch 14/50\n",
            "4500/4500 - 18s - loss: 0.4540 - accuracy: 0.7801 - val_loss: 0.5162 - val_accuracy: 0.7557\n",
            "Epoch 15/50\n",
            "4500/4500 - 18s - loss: 0.4508 - accuracy: 0.7832 - val_loss: 0.5092 - val_accuracy: 0.7551\n",
            "Epoch 16/50\n",
            "4500/4500 - 19s - loss: 0.4478 - accuracy: 0.7841 - val_loss: 0.5098 - val_accuracy: 0.7527\n",
            "Epoch 17/50\n",
            "4500/4500 - 18s - loss: 0.4460 - accuracy: 0.7854 - val_loss: 0.5117 - val_accuracy: 0.7502\n",
            "Epoch 18/50\n",
            "4500/4500 - 19s - loss: 0.4459 - accuracy: 0.7862 - val_loss: 0.5141 - val_accuracy: 0.7538\n",
            "Epoch 19/50\n",
            "4500/4500 - 18s - loss: 0.4451 - accuracy: 0.7865 - val_loss: 0.5093 - val_accuracy: 0.7534\n",
            "Epoch 20/50\n",
            "4500/4500 - 18s - loss: 0.4443 - accuracy: 0.7862 - val_loss: 0.5248 - val_accuracy: 0.7476\n",
            "Epoch 21/50\n",
            "4500/4500 - 18s - loss: 0.4409 - accuracy: 0.7887 - val_loss: 0.5141 - val_accuracy: 0.7513\n",
            "Epoch 22/50\n",
            "4500/4500 - 18s - loss: 0.4413 - accuracy: 0.7885 - val_loss: 0.5155 - val_accuracy: 0.7504\n",
            "Epoch 23/50\n",
            "4500/4500 - 18s - loss: 0.4407 - accuracy: 0.7888 - val_loss: 0.5142 - val_accuracy: 0.7507\n",
            "Epoch 24/50\n",
            "4500/4500 - 18s - loss: 0.4381 - accuracy: 0.7898 - val_loss: 0.5158 - val_accuracy: 0.7477\n",
            "Epoch 25/50\n",
            "4500/4500 - 18s - loss: 0.4380 - accuracy: 0.7888 - val_loss: 0.5211 - val_accuracy: 0.7509\n",
            "Epoch 26/50\n",
            "4500/4500 - 19s - loss: 0.4374 - accuracy: 0.7909 - val_loss: 0.5191 - val_accuracy: 0.7487\n",
            "Epoch 27/50\n",
            "4500/4500 - 18s - loss: 0.4358 - accuracy: 0.7914 - val_loss: 0.5238 - val_accuracy: 0.7477\n",
            "Epoch 28/50\n",
            "4500/4500 - 18s - loss: 0.4339 - accuracy: 0.7938 - val_loss: 0.5256 - val_accuracy: 0.7476\n",
            "Epoch 29/50\n",
            "4500/4500 - 18s - loss: 0.4360 - accuracy: 0.7911 - val_loss: 0.5191 - val_accuracy: 0.7514\n",
            "Epoch 30/50\n",
            "4500/4500 - 19s - loss: 0.4340 - accuracy: 0.7929 - val_loss: 0.5186 - val_accuracy: 0.7538\n",
            "Epoch 31/50\n",
            "4500/4500 - 19s - loss: 0.4342 - accuracy: 0.7927 - val_loss: 0.5196 - val_accuracy: 0.7502\n",
            "Epoch 32/50\n",
            "4500/4500 - 18s - loss: 0.4330 - accuracy: 0.7938 - val_loss: 0.5207 - val_accuracy: 0.7498\n",
            "Epoch 33/50\n",
            "4500/4500 - 19s - loss: 0.4328 - accuracy: 0.7928 - val_loss: 0.5263 - val_accuracy: 0.7495\n",
            "Epoch 34/50\n",
            "4500/4500 - 19s - loss: 0.4314 - accuracy: 0.7933 - val_loss: 0.5218 - val_accuracy: 0.7497\n",
            "Epoch 35/50\n",
            "4500/4500 - 18s - loss: 0.4322 - accuracy: 0.7946 - val_loss: 0.5190 - val_accuracy: 0.7477\n",
            "Epoch 36/50\n",
            "4500/4500 - 19s - loss: 0.4307 - accuracy: 0.7947 - val_loss: 0.5234 - val_accuracy: 0.7509\n",
            "Epoch 37/50\n",
            "4500/4500 - 18s - loss: 0.4309 - accuracy: 0.7948 - val_loss: 0.5204 - val_accuracy: 0.7502\n",
            "Epoch 38/50\n",
            "4500/4500 - 18s - loss: 0.4299 - accuracy: 0.7951 - val_loss: 0.5193 - val_accuracy: 0.7462\n",
            "Epoch 39/50\n",
            "4500/4500 - 18s - loss: 0.4301 - accuracy: 0.7950 - val_loss: 0.5252 - val_accuracy: 0.7492\n",
            "Epoch 40/50\n",
            "4500/4500 - 19s - loss: 0.4302 - accuracy: 0.7955 - val_loss: 0.5223 - val_accuracy: 0.7493\n",
            "Epoch 41/50\n",
            "4500/4500 - 18s - loss: 0.4288 - accuracy: 0.7957 - val_loss: 0.5275 - val_accuracy: 0.7441\n",
            "Epoch 42/50\n",
            "4500/4500 - 18s - loss: 0.4290 - accuracy: 0.7951 - val_loss: 0.5268 - val_accuracy: 0.7451\n",
            "Epoch 43/50\n",
            "4500/4500 - 19s - loss: 0.4301 - accuracy: 0.7952 - val_loss: 0.5294 - val_accuracy: 0.7454\n",
            "Epoch 44/50\n",
            "4500/4500 - 19s - loss: 0.4298 - accuracy: 0.7949 - val_loss: 0.5264 - val_accuracy: 0.7471\n",
            "Epoch 45/50\n",
            "4500/4500 - 18s - loss: 0.4270 - accuracy: 0.7972 - val_loss: 0.5280 - val_accuracy: 0.7479\n",
            "Epoch 46/50\n",
            "4500/4500 - 18s - loss: 0.4276 - accuracy: 0.7959 - val_loss: 0.5291 - val_accuracy: 0.7468\n",
            "Epoch 47/50\n",
            "4500/4500 - 18s - loss: 0.4284 - accuracy: 0.7967 - val_loss: 0.5271 - val_accuracy: 0.7446\n",
            "Epoch 48/50\n",
            "4500/4500 - 18s - loss: 0.4288 - accuracy: 0.7967 - val_loss: 0.5254 - val_accuracy: 0.7477\n",
            "Epoch 49/50\n",
            "4500/4500 - 19s - loss: 0.4280 - accuracy: 0.7963 - val_loss: 0.5307 - val_accuracy: 0.7499\n",
            "Epoch 50/50\n",
            "4500/4500 - 18s - loss: 0.4273 - accuracy: 0.7964 - val_loss: 0.5242 - val_accuracy: 0.7495\n",
            "Training Complete\n"
          ],
          "name": "stdout"
        }
      ]
    },
    {
      "cell_type": "code",
      "metadata": {
        "id": "qxju4ItJKO8F",
        "outputId": "b90e629d-f152-4ce9-c2fa-0798caf6e226",
        "colab": {
          "base_uri": "https://localhost:8080/",
          "height": 607
        }
      },
      "source": [
        "import matplotlib.image  as mpimg\n",
        "import matplotlib.pyplot as plt\n",
        "\n",
        "#-----------------------------------------------------------\n",
        "# Retrieve a list of list results on training and test data\n",
        "# sets for each training epoch\n",
        "#-----------------------------------------------------------\n",
        "acc=history.history['accuracy']\n",
        "val_acc=history.history['val_accuracy']\n",
        "loss=history.history['loss']\n",
        "val_loss=history.history['val_loss']\n",
        "\n",
        "epochs=range(len(acc)) # Get number of epochs\n",
        "\n",
        "#------------------------------------------------\n",
        "# Plot training and validation accuracy per epoch\n",
        "#------------------------------------------------\n",
        "plt.plot(epochs, acc, 'r')\n",
        "plt.plot(epochs, val_acc, 'b')\n",
        "plt.title('Training and validation accuracy')\n",
        "plt.xlabel(\"Epochs\")\n",
        "plt.ylabel(\"Accuracy\")\n",
        "plt.legend([\"Accuracy\", \"Validation Accuracy\"])\n",
        "\n",
        "plt.figure()\n",
        "\n",
        "#------------------------------------------------\n",
        "# Plot training and validation loss per epoch\n",
        "#------------------------------------------------\n",
        "plt.plot(epochs, loss, 'r')\n",
        "plt.plot(epochs, val_loss, 'b')\n",
        "plt.title('Training and validation loss')\n",
        "plt.xlabel(\"Epochs\")\n",
        "plt.ylabel(\"Loss\")\n",
        "plt.legend([\"Loss\", \"Validation Loss\"])\n",
        "\n",
        "plt.figure()\n",
        "\n",
        "\n",
        "# Expected Output\n",
        "# A chart where the validation loss does not increase sharply!"
      ],
      "execution_count": 9,
      "outputs": [
        {
          "output_type": "execute_result",
          "data": {
            "text/plain": [
              "<Figure size 432x288 with 0 Axes>"
            ]
          },
          "metadata": {
            "tags": []
          },
          "execution_count": 9
        },
        {
          "output_type": "display_data",
          "data": {
            "image/png": "[encoded data removed]",
            "text/plain": [
              "<Figure size 432x288 with 1 Axes>"
            ]
          },
          "metadata": {
            "tags": [],
            "needs_background": "light"
          }
        },
        {
          "output_type": "display_data",
          "data": {
            "image/png": "[encoded data removed]",
            "text/plain": [
              "<Figure size 432x288 with 1 Axes>"
            ]
          },
          "metadata": {
            "tags": [],
            "needs_background": "light"
          }
        },
        {
          "output_type": "display_data",
          "data": {
            "text/plain": [
              "<Figure size 432x288 with 0 Axes>"
            ]
          },
          "metadata": {
            "tags": []
          }
        }
      ]
    }
  ]
}